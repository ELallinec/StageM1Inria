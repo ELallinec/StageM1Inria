{
 "cells": [
  {
   "cell_type": "markdown",
   "id": "bb133943-575a-4384-877f-b4584614b46e",
   "metadata": {},
   "source": [
    "# Vlasov equation"
   ]
  },
  {
   "cell_type": "markdown",
   "id": "016b8722-7863-4931-b971-97388034dec6",
   "metadata": {},
   "source": [
    "\n",
    "\\begin{equation} \\left\\{\\begin{matrix}\n",
    "\\frac{\\mathrm{d}\\mathbf{x}_\\epsilon}{\\mathrm{d}t}&=& \\mathbf{v}_\\epsilon, & \\hspace{1cm} \\mathbf{x}_\\epsilon(s) = \\mathbf{x}\\\\\n",
    "\\frac{\\mathrm{d}\\mathbf{v}_\\epsilon}{\\mathrm{d}t} &=& \\frac{1}{\\epsilon}(\\mathbf{v}_\\epsilon)^\\perp + \\mathbf{E}(\\mathbf{x}_\\epsilon),& \\hspace{1cm}\\mathbf{v}_\\epsilon(s)=\\mathbf{v}\n",
    "\\end{matrix}\\right. \n",
    "\\end{equation}\n",
    "with $\\displaystyle{(\\mathbf{v}_\\epsilon)^\\perp=(0,\\mathbf{v}_{\\epsilon,3},-\\mathbf{v}_{\\epsilon,2} )^\\intercal}$, \n"
   ]
  },
  {
   "cell_type": "markdown",
   "id": "807bb1fa-2a16-43f7-a5fc-6908a5c8e70b",
   "metadata": {},
   "source": [
    "## Uniform time varying electric field"
   ]
  },
  {
   "cell_type": "code",
   "execution_count": null,
   "id": "22d38e63-e7ac-4530-a423-680e0a480127",
   "metadata": {},
   "outputs": [],
   "source": []
  },
  {
   "cell_type": "markdown",
   "id": "97b40033-29bf-43e5-8f93-8e5cd0d59511",
   "metadata": {},
   "source": [
    "## Non uniform stationary electric field"
   ]
  },
  {
   "cell_type": "markdown",
   "id": "42533da4-74eb-48ae-abb6-05dbfe288722",
   "metadata": {},
   "source": [
    "If we take the electric field $\\mathbf{E}(\\mathbf{x})$ as \n",
    "$$\\mathbf{E} (\\mathbf{x}) = c\\begin{pmatrix} -\\mathbf{x}_1 \\\\ \\frac{\\mathbf{x}_2}{2} \\\\ \\frac{\\mathbf{x}_3}{2} \\end{pmatrix}$$\n",
    "with $c > 0$\n",
    "\n",
    "Then this system describes the dynamics of a charged particle in an ideal Penning trap."
   ]
  },
  {
   "cell_type": "markdown",
   "id": "73cd1238-5dc3-4449-a1ce-d03d776865c1",
   "metadata": {},
   "source": [
    "Under the assumption $\\displaystyle{\\frac{1}{\\varepsilon} > \\sqrt{2c}}$ we have an analytical solution to this problem that can be written as\n",
    "\n",
    "$$\\left\\{\\begin{matrix}\\mathbf{x}_\\varepsilon(t) = \\begin{pmatrix} \n",
    "c_1\\cos(\\sqrt{c}(t-s)) + c_2\\sin(\\sqrt{c}(t-s)) \\\\\n",
    "a_1\\sin(a_\\varepsilon(t-s)) - a_2\\cos(a_\\varepsilon(t-s)) + b_1\\sin(b_\\varepsilon(t-s)) - b_2\\cos(b_\\varepsilon(t-s))  \\\\\n",
    "a_1\\cos(a_\\varepsilon(t-s)) + a_2\\cos(a_\\varepsilon(t-s)) + b_1\\cos(b_\\varepsilon(t-s)) + b_2\\cos(b_\\varepsilon(t-s)) \n",
    "\\end{pmatrix} \\\\\n",
    "\\mathbf{v}_\\varepsilon(t) = \\frac{\\mathrm{d}\\mathbf{x}_\\varepsilon}{\\mathrm{d}t} \\end{matrix}\\right.  $$\n"
   ]
  },
  {
   "cell_type": "code",
   "execution_count": 1,
   "id": "bcb95b96-81c4-47d7-9853-79f73d5a843d",
   "metadata": {},
   "outputs": [],
   "source": [
    "import Vlasov as V\n",
    "import matplotlib.pyplot as plt\n",
    "import numpy as np\n",
    "import parareal as para\n",
    "import HamiltonianFunctions as func\n",
    "import RK4 as RK4\n",
    "s = 0\n",
    "\n",
    "x = np.array([1,1,1])\n",
    "v = np.array([1,1,1])\n",
    "c = 2 \n",
    "eps = 0.01\n",
    "T = 2*np.pi*eps\n",
    "N = 8\n",
    "delta_t = T/N\n",
    "tab_t = np.linspace(s,T,N+1)\n",
    "dtg = 1\n",
    "dtf = T/80\n",
    "ans = V.sol_ex_tab(tab_t,s,x,v,c,eps)"
   ]
  },
  {
   "cell_type": "code",
   "execution_count": 2,
   "id": "0de8e7bd-53bf-48ab-a411-d1ccaa7b873d",
   "metadata": {},
   "outputs": [
    {
     "name": "stdout",
     "output_type": "stream",
     "text": [
      "k: 1\n",
      "k: 2\n",
      "k: 3\n",
      "k: 4\n",
      "k: 5\n",
      "k: 6\n",
      "k: 7\n",
      "k: 8\n"
     ]
    }
   ],
   "source": [
    "tab_y = V.parareal_vlasov(func.Vlasov,RK4.RK4,x,v,s,tab_t,c,eps,delta_t,N,dtg)"
   ]
  },
  {
   "cell_type": "code",
   "execution_count": 16,
   "id": "9e3181b2-1dc1-492c-b31d-d1c662b18cee",
   "metadata": {},
   "outputs": [],
   "source": [
    "err = []\n",
    "for n in range(N+1):\n",
    "    err.append(np.linalg.norm(tab_y[8,n]-ans[n],1))"
   ]
  },
  {
   "cell_type": "code",
   "execution_count": 17,
   "id": "10c1d958-03d7-4dfb-a31b-464423772015",
   "metadata": {},
   "outputs": [
    {
     "data": {
      "text/plain": [
       "[<matplotlib.lines.Line2D at 0x7fd97012c100>]"
      ]
     },
     "execution_count": 17,
     "metadata": {},
     "output_type": "execute_result"
    },
    {
     "data": {
      "image/png": "[encoded data removed]",
      "text/plain": [
       "<Figure size 432x288 with 1 Axes>"
      ]
     },
     "metadata": {
      "needs_background": "light"
     },
     "output_type": "display_data"
    }
   ],
   "source": [
    "plt.plot(tab_t,err)"
   ]
  },
  {
   "cell_type": "code",
   "execution_count": null,
   "id": "dc8d13d3-b495-4e7c-afc3-14c221c8125a",
   "metadata": {},
   "outputs": [],
   "source": []
  }
 ],
 "metadata": {
  "kernelspec": {
   "display_name": "Python 3 (ipykernel)",
   "language": "python",
   "name": "python3"
  },
  "language_info": {
   "codemirror_mode": {
    "name": "ipython",
    "version": 3
   },
   "file_extension": ".py",
   "mimetype": "text/x-python",
   "name": "python",
   "nbconvert_exporter": "python",
   "pygments_lexer": "ipython3",
   "version": "3.10.4"
  }
 },
 "nbformat": 4,
 "nbformat_minor": 5
}
