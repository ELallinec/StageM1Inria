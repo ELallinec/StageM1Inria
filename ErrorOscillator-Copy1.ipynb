{
 "cells": [
  {
   "cell_type": "markdown",
   "id": "686e3879-cc19-403f-bd94-a5c3ad3dfbb3",
   "metadata": {},
   "source": [
    "# Harmonic oscillator "
   ]
  },
  {
   "cell_type": "markdown",
   "id": "8ff7976c-190c-44a8-8346-8756c17e79c0",
   "metadata": {},
   "source": [
    "We have an Hamiltonian system\n",
    "$$\\dot{y} = J^{-1} \\nabla H(y) $$\n",
    "with $y = (p,q) \\in \\mathbb{R}^{2d}$ and $J=\\begin{pmatrix}0 & I \\\\ -I & 0 \\end{pmatrix} \\in M_{2d}(\\mathbb{R})$"
   ]
  },
  {
   "cell_type": "markdown",
   "id": "190fb3c2-d097-4632-bda5-e20f2c43db5e",
   "metadata": {},
   "source": [
    "In this case  $d=1$ and we have the following hamiltonian\n",
    "\\begin{equation}\n",
    "H(p,q) = \\frac{1}{2}\\left(p^2 + q ^2\\right)\n",
    "\\end{equation}"
   ]
  },
  {
   "cell_type": "markdown",
   "id": "991339c8-0c30-4e25-9b96-263c817caa70",
   "metadata": {},
   "source": [
    "Thus\n",
    "\n",
    "$$\n",
    "\\left\\{\\begin{matrix}\n",
    "       \\frac{\\partial p}{\\partial t} &=& - q \\\\\n",
    "       \\frac{\\partial q}{\\partial t} &=& p\\\\\n",
    "\\end{matrix}\\right.\n",
    "$$\n"
   ]
  },
  {
   "cell_type": "markdown",
   "id": "90dd9fd2-1d9e-4dc2-ae23-6a21defa1722",
   "metadata": {
    "tags": []
   },
   "source": [
    "### Imports"
   ]
  },
  {
   "cell_type": "code",
   "execution_count": 1,
   "id": "f274e912-f79e-403f-8dbe-f32568d51c1a",
   "metadata": {},
   "outputs": [],
   "source": [
    "import sys\n",
    "sys.path.append('Euler')\n",
    "import EulerImplicitOscillator as EIO\n",
    "import parareal as para\n",
    "import RK2\n",
    "import RK4\n",
    "import StormerOscillator as SO\n",
    "import HamiltonianFunctions as func\n",
    "import numpy as np\n",
    "import matplotlib.pyplot as plt\n",
    "#matplotlib.rcParams['figure.figsize'] = [10, 5]\n",
    "\n"
   ]
  },
  {
   "cell_type": "markdown",
   "id": "2982ed1b-2744-4b48-bd36-63efa3476118",
   "metadata": {
    "tags": []
   },
   "source": [
    "### Constants"
   ]
  },
  {
   "cell_type": "code",
   "execution_count": 2,
   "id": "b6b812b5-0c63-4afb-832e-3e2018c1c46a",
   "metadata": {},
   "outputs": [
    {
     "name": "stdout",
     "output_type": "stream",
     "text": [
      "T: 100000\n",
      "N: 10000000\n",
      "delta_t: 0.01\n",
      "dtf: 0.0001\n",
      "dtg: 0.01\n"
     ]
    }
   ],
   "source": [
    "T = 100000\n",
    "N = 100*T\n",
    "y0 = np.array([0, 1])\n",
    "delta_t = T/N\n",
    "dtg = delta_t\n",
    "dtf = delta_t/100\n",
    "epsilon = 1/N\n",
    "tab_t = np.linspace(0,T,N+1)\n",
    "print(\"T:\", T)\n",
    "print(\"N:\", N)\n",
    "print(\"delta_t:\", delta_t)\n",
    "print(\"dtf:\", dtf)\n",
    "print(\"dtg:\", dtg)"
   ]
  },
  {
   "cell_type": "markdown",
   "id": "bdfcd534-b937-4306-9407-2bd37588d015",
   "metadata": {},
   "source": [
    "## Computation of solutions"
   ]
  },
  {
   "cell_type": "code",
   "execution_count": 3,
   "id": "9f0df3cd-eee7-470b-91b7-564b397664cf",
   "metadata": {},
   "outputs": [],
   "source": [
    "%matplotlib widget"
   ]
  },
  {
   "cell_type": "code",
   "execution_count": null,
   "id": "0d4968f5-54e2-426a-aa8c-8f88401abf92",
   "metadata": {},
   "outputs": [
    {
     "name": "stdout",
     "output_type": "stream",
     "text": [
      "[[ 0.         -0.00999975 -0.0199985  ...  0.35312588  0.36246373\n",
      "   0.37176534]\n",
      " [ 1.          0.99995     0.9998     ... -0.93557415 -0.93199611\n",
      "  -0.92832488]]\n",
      "k: 1\n",
      "k: 2\n"
     ]
    }
   ],
   "source": [
    "tab_Ha0 = 0.5*np.ones(N+1)\n",
    "tab_Ha = para.parareal_Ha(func.Oscillator, SO.Stormer, SO.Stormer, y0, dtf, dtg, delta_t,T,func.HaOscillator, tab_Ha0,SO.tab_Stormer)\n",
    "plt.loglog(tab_t,tab_Ha[0],label = 'f')\n",
    "plt.loglog(tab_t,tab_Ha[1],label = 'g')\n",
    "\n",
    "\n",
    "for k in range(2,len(tab_Ha)):\n",
    "    plt.loglog(tab_t,tab_Ha[k],label = f\"{k-1}\")\n",
    "plt.legend()"
   ]
  }
 ],
 "metadata": {
  "kernelspec": {
   "display_name": "Python 3 (ipykernel)",
   "language": "python",
   "name": "python3"
  },
  "language_info": {
   "codemirror_mode": {
    "name": "ipython",
    "version": 3
   },
   "file_extension": ".py",
   "mimetype": "text/x-python",
   "name": "python",
   "nbconvert_exporter": "python",
   "pygments_lexer": "ipython3",
   "version": "3.10.4"
  }
 },
 "nbformat": 4,
 "nbformat_minor": 5
}
