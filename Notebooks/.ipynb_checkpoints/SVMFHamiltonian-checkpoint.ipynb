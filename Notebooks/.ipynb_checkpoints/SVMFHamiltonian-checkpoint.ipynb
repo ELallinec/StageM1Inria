{
 "cells": [
  {
   "cell_type": "markdown",
   "id": "6e4a4868-06e2-4552-829b-5ee321a60b1c",
   "metadata": {},
   "source": [
    "# SVMF Hamiltonian Computation"
   ]
  },
  {
   "cell_type": "markdown",
   "id": "2c92c9e0-3b80-4393-81aa-3385397c10b4",
   "metadata": {},
   "source": [
    "The hamiltonian of the system is $$H(x,v) = \\frac{|v|}{2} $$\n",
    "therefore we want to verify that it is conserved by the parareal algorithm using $G4$ solver."
   ]
  },
  {
   "cell_type": "markdown",
   "id": "faf81454-b118-4e87-8e08-f50b36b81c23",
   "metadata": {},
   "source": [
    "## Imports"
   ]
  },
  {
   "cell_type": "code",
   "execution_count": 1,
   "id": "6fe667c1-1043-4beb-8b7f-61fc29c02852",
   "metadata": {},
   "outputs": [],
   "source": [
    "import sys\n",
    "sys.path.append('../Euler')\n",
    "sys.path.append('../RK')\n",
    "sys.path.append('../Parareal')\n",
    "sys.path.append('../Stormer')\n",
    "sys.path.append('../Problems')\n",
    "\n",
    "import matplotlib.pyplot as plt\n",
    "import numpy as np\n",
    "import parareal as para\n",
    "import HamiltonianFunctions as func\n",
    "import RK4 as RK4\n",
    "import RK2 as RK2\n",
    "import StrongVariableMagneticField as SVMF\n"
   ]
  },
  {
   "cell_type": "markdown",
   "id": "0e104fe0-8815-4709-938f-2bfd888dc4e4",
   "metadata": {},
   "source": [
    "## Constants"
   ]
  },
  {
   "cell_type": "code",
   "execution_count": null,
   "id": "eab50cd4-354e-47fc-a957-e19f5a7f17bd",
   "metadata": {},
   "outputs": [],
   "source": [
    "s = 0\n",
    "eps = 0.01\n",
    "x = np.longdouble([1,1,1])\n",
    "v = np.longdouble([1,eps,0])\n",
    "y0 = np.concatenate((x,v))\n",
    "T = 500\n",
    "delta_t = 0.0625\n",
    "N = round(T/delta_t)\n",
    "dtf = delta_t/100\n",
    "kmax = 10"
   ]
  },
  {
   "cell_type": "markdown",
   "id": "7453f2f6-7678-4bc2-9f87-7dc7e9dbe28b",
   "metadata": {},
   "source": [
    "## Computation"
   ]
  },
  {
   "cell_type": "code",
   "execution_count": null,
   "id": "2e171c1c-2d96-42ed-8cfc-e826f7b159b2",
   "metadata": {},
   "outputs": [
    {
     "name": "stdout",
     "output_type": "stream",
     "text": [
      "T: 500\n",
      "N: 8000\n",
      "delta_t: 0.0625\n",
      "eps: 0.01\n",
      "kmax: 10\n",
      "k: 1\n"
     ]
    }
   ],
   "source": [
    "sol_para = SVMF.parareal_bis_magnetic(func.VariableMagneticField,SVMF.G4_final,SVMF.approx,y0,eps,dtf,delta_t,T,kmax)"
   ]
  },
  {
   "cell_type": "markdown",
   "id": "fb855493-16c1-49a3-a13d-1c79d140850d",
   "metadata": {},
   "source": [
    "## Plot"
   ]
  },
  {
   "cell_type": "code",
   "execution_count": null,
   "id": "58604120-63a2-436f-8f1b-7f5f66520585",
   "metadata": {},
   "outputs": [],
   "source": [
    "%matplotlib widget\n",
    "fig = plt.figure(figsize=(15,7))\n",
    "ax = plt.axes()\n",
    "ha0 = np.linalg.norm(v,2)**2/2*np.ones(N+1)\n",
    "ha = np.zeros(N+1)\n",
    "for k in range(2,len(sol_para)):\n",
    "    for n in range(N+1):\n",
    "        ha[n] = np.linalg.norm(sol_para[k,n,3:],2)**2/2\n",
    "    ax.plot(np.linspace(0,T,N+1),ha-ha0)\n",
    "ax.legend([\"k=1\", \"k=2\", \"k=3\", \"k=4\", \"k=5\", \"k=6\", \"k=7\",\"k=8\",\"k=9\",\"k=10\"]) \n",
    "#ax.plot3D(tab_y[0],tab_y[1],tab_y[2], 'red')\n",
    "#ax.plot3D(y_tab[0],y_tab[1],y_tab[2],'blue')\n",
    "#ax.plot3D(tab_y[0],tab_y[1],tab_y[2],'red')\n",
    "\n"
   ]
  }
 ],
 "metadata": {
  "kernelspec": {
   "display_name": "Python 3 (ipykernel)",
   "language": "python",
   "name": "python3"
  },
  "language_info": {
   "codemirror_mode": {
    "name": "ipython",
    "version": 3
   },
   "file_extension": ".py",
   "mimetype": "text/x-python",
   "name": "python",
   "nbconvert_exporter": "python",
   "pygments_lexer": "ipython3",
   "version": "3.10.4"
  }
 },
 "nbformat": 4,
 "nbformat_minor": 5
}
