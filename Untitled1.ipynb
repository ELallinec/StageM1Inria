{
 "cells": [
  {
   "cell_type": "code",
   "execution_count": 2,
   "id": "1e295cdd-ff70-434b-bfb5-1fdeae9a9730",
   "metadata": {},
   "outputs": [
    {
     "data": {
      "text/plain": [
       "2-element Vector{Float64}:\n",
       " -0.019417108440238084\n",
       "  0.9998109976276831"
      ]
     },
     "execution_count": 2,
     "metadata": {},
     "output_type": "execute_result"
    }
   ],
   "source": [
    "function Oscillator(p,q)\n",
    "    return [-q,p]\n",
    "end\n",
    "\n",
    "function Stormer(F,t0,T,p,q,dt)\n",
    "    N = (T-t0)/dt\n",
    "    for k=1:N+1\n",
    "        temp = p - dt*q/2\n",
    "        q = q +dt*temp\n",
    "        p = temp -dt*q/2\n",
    "    end\n",
    "    return [p,q]\n",
    "end\n",
    "\n",
    "\n",
    "function parareal(F,f,g,T,p,q,dtf,dtg,N)\n",
    "    delta_t= T/N\n",
    "    kmax = 6\n",
    "end"
   ]
  },
  {
   "cell_type": "code",
   "execution_count": null,
   "id": "f4508f3d-d5bb-4a35-869d-f4f2060cb981",
   "metadata": {},
   "outputs": [],
   "source": []
  }
 ],
 "metadata": {
  "kernelspec": {
   "display_name": "Julia 1.7.2",
   "language": "julia",
   "name": "julia-1.7"
  },
  "language_info": {
   "file_extension": ".jl",
   "mimetype": "application/julia",
   "name": "julia",
   "version": "1.7.2"
  }
 },
 "nbformat": 4,
 "nbformat_minor": 5
}
