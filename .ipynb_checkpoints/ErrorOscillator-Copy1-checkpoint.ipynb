{
 "cells": [
  {
   "cell_type": "markdown",
   "id": "686e3879-cc19-403f-bd94-a5c3ad3dfbb3",
   "metadata": {},
   "source": [
    "# Harmonic oscillator "
   ]
  },
  {
   "cell_type": "markdown",
   "id": "8ff7976c-190c-44a8-8346-8756c17e79c0",
   "metadata": {},
   "source": [
    "We have an Hamiltonian system\n",
    "$$\\dot{y} = J^{-1} \\nabla H(y) $$\n",
    "with $y = (p,q) \\in \\mathbb{R}^{2d}$ and $J=\\begin{pmatrix}0 & I \\\\ -I & 0 \\end{pmatrix} \\in M_{2d}(\\mathbb{R})$"
   ]
  },
  {
   "cell_type": "markdown",
   "id": "190fb3c2-d097-4632-bda5-e20f2c43db5e",
   "metadata": {},
   "source": [
    "In this case  $d=1$ and we have the following hamiltonian\n",
    "\\begin{equation}\n",
    "H(p,q) = \\frac{1}{2}\\left(p^2 + q ^2\\right)\n",
    "\\end{equation}"
   ]
  },
  {
   "cell_type": "markdown",
   "id": "991339c8-0c30-4e25-9b96-263c817caa70",
   "metadata": {},
   "source": [
    "Thus\n",
    "\n",
    "$$\n",
    "\\left\\{\\begin{matrix}\n",
    "       \\frac{\\partial p}{\\partial t} &=& - q \\\\\n",
    "       \\frac{\\partial q}{\\partial t} &=& p\\\\\n",
    "\\end{matrix}\\right.\n",
    "$$\n"
   ]
  },
  {
   "cell_type": "markdown",
   "id": "90dd9fd2-1d9e-4dc2-ae23-6a21defa1722",
   "metadata": {
    "tags": []
   },
   "source": [
    "### Imports"
   ]
  },
  {
   "cell_type": "code",
   "execution_count": 1,
   "id": "f274e912-f79e-403f-8dbe-f32568d51c1a",
   "metadata": {},
   "outputs": [],
   "source": [
    "import sys\n",
    "sys.path.append('Euler')\n",
    "import EulerImplicitOscillator as EIO\n",
    "import parareal as para\n",
    "import RK2\n",
    "import RK4\n",
    "import StormerOscillator as SO\n",
    "import HamiltonianFunctions as func\n",
    "import numpy as np\n",
    "import matplotlib.pyplot as plt\n",
    "#matplotlib.rcParams['figure.figsize'] = [10, 5]\n",
    "\n"
   ]
  },
  {
   "cell_type": "markdown",
   "id": "2982ed1b-2744-4b48-bd36-63efa3476118",
   "metadata": {
    "tags": []
   },
   "source": [
    "### Constants"
   ]
  },
  {
   "cell_type": "code",
   "execution_count": 2,
   "id": "b6b812b5-0c63-4afb-832e-3e2018c1c46a",
   "metadata": {},
   "outputs": [],
   "source": [
    "T = 100000\n",
    "N = 1000000\n",
    "y0 = np.array([0, 1])\n",
    "delta_t = T/N\n",
    "dtg = delta_t\n",
    "dtf = delta_t/100\n",
    "epsilon = 1/N\n"
   ]
  },
  {
   "cell_type": "markdown",
   "id": "bdfcd534-b937-4306-9407-2bd37588d015",
   "metadata": {},
   "source": [
    "## Computation of solutions"
   ]
  },
  {
   "cell_type": "code",
   "execution_count": 3,
   "id": "9f0df3cd-eee7-470b-91b7-564b397664cf",
   "metadata": {},
   "outputs": [],
   "source": [
    "%matplotlib inline"
   ]
  },
  {
   "cell_type": "code",
   "execution_count": null,
   "id": "0d4968f5-54e2-426a-aa8c-8f88401abf92",
   "metadata": {},
   "outputs": [
    {
     "name": "stdout",
     "output_type": "stream",
     "text": [
      "k:  1\n",
      "k:  2\n",
      "k:  3\n",
      "k:  4\n"
     ]
    }
   ],
   "source": [
    "tab_y = para.parareal_bis(func.Oscillator, SO.Stormer,SO.Stormer, T, y0, dtf, dtg, N, epsilon)\n",
    "\n",
    "tab_t = np.linspace(0, T, N+1)\n",
    "sol_ex = np.array([-np.sin(tab_t),np.cos(tab_t)])"
   ]
  },
  {
   "cell_type": "markdown",
   "id": "7fbdf2cd-0d5f-4b77-993b-8fe32233c58a",
   "metadata": {},
   "source": [
    "## Error computation on parareal algorithm for harmonic oscillator"
   ]
  },
  {
   "cell_type": "markdown",
   "id": "c69df790-0a32-40d6-87ea-b677a0361d88",
   "metadata": {
    "tags": []
   },
   "source": [
    "### Error on y"
   ]
  },
  {
   "cell_type": "code",
   "execution_count": null,
   "id": "00f74d0f-7187-4bf7-8f43-effc31b40b2f",
   "metadata": {},
   "outputs": [],
   "source": [
    "tab_err = para.err(tab_y,sol_ex)\n",
    "\n",
    "for k in range(2,len(tab_err)):\n",
    "    plt.loglog(tab_t,np.abs(tab_err[k,:]),label =f\"k:{k-1}\")\n",
    "    \n",
    "plt.legend()"
   ]
  },
  {
   "cell_type": "markdown",
   "id": "eec2f510-fed5-4bc7-9ec2-cd183464af94",
   "metadata": {},
   "source": [
    "### Error on the Hamiltonian"
   ]
  },
  {
   "cell_type": "code",
   "execution_count": null,
   "id": "90e4df96-62c8-4746-86cc-ea6290a41d77",
   "metadata": {},
   "outputs": [],
   "source": [
    "\n",
    "tab_Ha0 = 0.5 * np.ones(len(tab_y[0]))\n",
    "#tab_Ha = para.parareal_Ha_Oscillator(func.Oscillator, SO.Stormer,SO.Stormer, T, y0, dtf, dtg, N, epsilon)\n",
    "tab_Ha = para.Ha_err(tab_y,tab_Ha0,func.HaOscillator)\n",
    "kmax = len(tab_Ha)\n",
    "\n",
    "\n",
    "  "
   ]
  },
  {
   "cell_type": "code",
   "execution_count": null,
   "id": "e721fdb6-ff0b-4770-b6dd-4f37da029f19",
   "metadata": {},
   "outputs": [],
   "source": [
    "%matplotlib widget\n",
    "plt.loglog(tab_t,tab_Ha[0], label =\"f solver\")\n",
    "plt.loglog(tab_t,tab_Ha[1], label =\"g solver\")\n",
    "\n",
    "for k in range(2,kmax):\n",
    "    plt.loglog(tab_t,tab_Ha[k], label =f\"k={k-1}\")\n",
    "    plt.xlabel('Time')\n",
    "    plt.ylabel('Error')\n",
    "    plt.xlim(1,T)\n",
    "plt.legend()"
   ]
  },
  {
   "cell_type": "code",
   "execution_count": null,
   "id": "44b44651-04be-48d8-9080-715b0912c752",
   "metadata": {},
   "outputs": [],
   "source": [
    "for k in range(2,kmax):\n",
    "    slope, intercept = np.polyfit(np.log(tab_t)[1:],np.log(np.abs(tab_Ha[k]))[1:],1)\n",
    "    print(f\"pente {k-1}\", slope)\n",
    "\n"
   ]
  },
  {
   "cell_type": "code",
   "execution_count": null,
   "id": "a47c9003-830e-4029-9057-64716feeef27",
   "metadata": {},
   "outputs": [],
   "source": []
  }
 ],
 "metadata": {
  "kernelspec": {
   "display_name": "Python 3 (ipykernel)",
   "language": "python",
   "name": "python3"
  },
  "language_info": {
   "codemirror_mode": {
    "name": "ipython",
    "version": 3
   },
   "file_extension": ".py",
   "mimetype": "text/x-python",
   "name": "python",
   "nbconvert_exporter": "python",
   "pygments_lexer": "ipython3",
   "version": "3.10.4"
  }
 },
 "nbformat": 4,
 "nbformat_minor": 5
}
