{
 "cells": [
  {
   "cell_type": "markdown",
   "id": "686e3879-cc19-403f-bd94-a5c3ad3dfbb3",
   "metadata": {},
   "source": [
    "# Harmonic oscillator "
   ]
  },
  {
   "cell_type": "markdown",
   "id": "8ff7976c-190c-44a8-8346-8756c17e79c0",
   "metadata": {},
   "source": [
    "We have an Hamiltonian system\n",
    "$$\\dot{y} = J^{-1} \\nabla H(y) $$\n",
    "with $y = (p,q) \\in \\mathbb{R}^{2d}$ and $J=\\begin{pmatrix}0 & I \\\\ -I & 0 \\end{pmatrix} \\in M_{2d}(\\mathbb{R})$"
   ]
  },
  {
   "cell_type": "markdown",
   "id": "190fb3c2-d097-4632-bda5-e20f2c43db5e",
   "metadata": {},
   "source": [
    "In this case  $d=1$ and we have the following hamiltonian\n",
    "\\begin{equation}\n",
    "H(p,q) = \\frac{1}{2}\\left(p^2 + q ^2\\right)\n",
    "\\end{equation}"
   ]
  },
  {
   "cell_type": "markdown",
   "id": "991339c8-0c30-4e25-9b96-263c817caa70",
   "metadata": {},
   "source": [
    "Thus\n",
    "\n",
    "$$\n",
    "\\left\\{\\begin{matrix}\n",
    "       \\frac{\\partial p}{\\partial t} &=& - q \\\\\n",
    "       \\frac{\\partial q}{\\partial t} &=& p\\\\\n",
    "\\end{matrix}\\right.\n",
    "$$\n"
   ]
  },
  {
   "cell_type": "markdown",
   "id": "90dd9fd2-1d9e-4dc2-ae23-6a21defa1722",
   "metadata": {
    "tags": []
   },
   "source": [
    "### Imports"
   ]
  },
  {
   "cell_type": "code",
   "execution_count": 1,
   "id": "f274e912-f79e-403f-8dbe-f32568d51c1a",
   "metadata": {},
   "outputs": [],
   "source": [
    "import sys\n",
    "sys.path.append('Euler')\n",
    "import EulerImplicitOscillator as EIO\n",
    "import parareal as para\n",
    "import RK2\n",
    "import RK4\n",
    "import StormerOscillator as SO\n",
    "import HamiltonianFunctions as func\n",
    "import numpy as np\n",
    "import matplotlib.pyplot as plt\n",
    "#matplotlib.rcParams['figure.figsize'] = [10, 5]\n",
    "\n"
   ]
  },
  {
   "cell_type": "markdown",
   "id": "2982ed1b-2744-4b48-bd36-63efa3476118",
   "metadata": {
    "tags": []
   },
   "source": [
    "### Constants"
   ]
  },
  {
   "cell_type": "code",
   "execution_count": 2,
   "id": "b6b812b5-0c63-4afb-832e-3e2018c1c46a",
   "metadata": {},
   "outputs": [],
   "source": [
    "T = 0.3 \n",
    "N = 3\n",
    "y0 = np.double([0, 1])\n",
    "delta_t = T/N\n",
    "dtg = delta_t\n",
    "dtf = delta_t/100\n",
    "epsilon = 1/N\n"
   ]
  },
  {
   "cell_type": "markdown",
   "id": "bdfcd534-b937-4306-9407-2bd37588d015",
   "metadata": {},
   "source": [
    "## Plot"
   ]
  },
  {
   "cell_type": "code",
   "execution_count": 3,
   "id": "9f0df3cd-eee7-470b-91b7-564b397664cf",
   "metadata": {},
   "outputs": [],
   "source": [
    "%matplotlib inline\n",
    "\n",
    "#tab_test = SO.tab_Stormer(func.Oscillator,0,T,y0,delta_t)\n",
    "\n",
    "\n",
    "#plt.plot(tab_test[1,:], tab_test[0,:],'*', label = 'Stormer')\n",
    "#plt.legend()\n",
    "#plt.title('Stormer Verlet vs exact')\n"
   ]
  },
  {
   "cell_type": "code",
   "execution_count": 4,
   "id": "0d4968f5-54e2-426a-aa8c-8f88401abf92",
   "metadata": {},
   "outputs": [
    {
     "name": "stdout",
     "output_type": "stream",
     "text": [
      "k: 1\n",
      "f [[ 0.         -0.33034242 -0.83674714 -0.98159445]\n",
      " [ 1.          0.943861    0.53772407 -0.10076277]]\n",
      "g [[0. 0. 0. 0.]\n",
      " [1. 0. 0. 0.]]\n",
      "lambda_tab 1 début\n",
      " [[0. 0. 0. 0.]\n",
      " [1. 0. 0. 0.]]\n",
      "lambda_tab 1 fin\n",
      " [[ 0.         -0.33034242  0.          0.        ]\n",
      " [ 1.          0.943861    0.          0.        ]]\n",
      "lambda_tab 2 début\n",
      " [[ 0.         -0.33034242  0.          0.        ]\n",
      " [ 1.          0.943861    0.          0.        ]]\n",
      "lambda_tab 2 fin\n",
      " [[ 0.         -0.33034242 -0.71371934  0.        ]\n",
      " [ 1.          0.943861    0.84051397  0.        ]]\n",
      "lambda_tab 3 début\n",
      " [[ 0.         -0.33034242 -0.71371934  0.        ]\n",
      " [ 1.          0.943861    0.84051397  0.        ]]\n",
      "lambda_tab 3 fin\n",
      " [[ 0.         -0.33034242 -0.71371934 -1.16293493]\n",
      " [ 1.          0.943861    0.84051397  0.53343469]]\n",
      "k: 2\n",
      "f [[ 0.         -0.33034242 -0.62359465 -0.95130926]\n",
      " [ 1.          0.943861    0.78174717  0.55755592]]\n",
      "g [[ 0.         -0.61213992 -0.95977493 -0.89269238]\n",
      " [ 1.          0.78395062  0.22915714 -0.42465485]]\n",
      "lambda_tab 1 début\n",
      " [[ 0.         -0.33034242 -0.71371934 -1.16293493]\n",
      " [ 1.          0.943861    0.84051397  0.53343469]]\n",
      "lambda_tab 1 fin\n",
      " [[ 0.         -0.33034242 -0.71371934 -1.16293493]\n",
      " [ 1.          0.943861    0.84051397  0.53343469]]\n",
      "lambda_tab 2 début\n",
      " [[ 0.         -0.33034242 -0.71371934 -1.16293493]\n",
      " [ 1.          0.943861    0.84051397  0.53343469]]\n",
      "lambda_tab 2 fin\n",
      " [[ 0.         -0.33034242 -0.62359465 -1.16293493]\n",
      " [ 1.          0.943861    0.78174717  0.53343469]]\n",
      "lambda_tab 3 début\n",
      " [[ 0.         -0.33034242 -0.62359465 -1.16293493]\n",
      " [ 1.          0.943861    0.78174717  0.53343469]]\n",
      "lambda_tab 3 fin\n",
      " [[ 0.         -0.33034242 -0.62359465 -0.84468245]\n",
      " [ 1.          0.943861    0.78174717  0.56823083]]\n",
      "k: 3\n",
      "f [[ 0.         -0.33034242 -0.62359465 -0.84683092]\n",
      " [ 1.          0.943861    0.78174717  0.53186033]]\n",
      "g [[ 0.         -0.61213992 -0.83674714 -1.07403287]\n",
      " [ 1.          0.78395062  0.53194704  0.2095426 ]]\n",
      "lambda_tab 1 début\n",
      " [[ 0.         -0.33034242 -0.62359465 -0.84468245]\n",
      " [ 1.          0.943861    0.78174717  0.56823083]]\n",
      "lambda_tab 1 fin\n",
      " [[ 0.         -0.33034242 -0.62359465 -0.84468245]\n",
      " [ 1.          0.943861    0.78174717  0.56823083]]\n",
      "lambda_tab 2 début\n",
      " [[ 0.         -0.33034242 -0.62359465 -0.84468245]\n",
      " [ 1.          0.943861    0.78174717  0.56823083]]\n",
      "lambda_tab 2 fin\n",
      " [[ 0.         -0.33034242 -0.62359465 -0.84468245]\n",
      " [ 1.          0.943861    0.78174717  0.56823083]]\n",
      "lambda_tab 3 début\n",
      " [[ 0.         -0.33034242 -0.62359465 -0.84468245]\n",
      " [ 1.          0.943861    0.78174717  0.56823083]]\n",
      "lambda_tab 3 fin\n",
      " [[ 0.         -0.33034242 -0.62359465 -0.84683092]\n",
      " [ 1.          0.943861    0.78174717  0.53186033]]\n"
     ]
    },
    {
     "data": {
      "text/plain": [
       "Text(0.5, 1.0, 'Parareal vs exact')"
      ]
     },
     "execution_count": 4,
     "metadata": {},
     "output_type": "execute_result"
    },
    {
     "data": {
      "image/png": "[encoded data removed]",
      "text/plain": [
       "<Figure size 432x288 with 1 Axes>"
      ]
     },
     "metadata": {
      "needs_background": "light"
     },
     "output_type": "display_data"
    }
   ],
   "source": [
    "tab_y = para.parareal(func.Oscillator, SO.Stormer,\n",
    "                      SO.Stormer, T, y0, dtf, dtg, N, epsilon)\n",
    "\n",
    "tab_t = np.linspace(0, T, len(tab_y[0]))\n",
    "sol_ex = np.array([-np.sin(tab_t),np.cos(tab_t)])\n",
    "plt.plot(sol_ex[1], sol_ex[0], 'o', label='exact')\n",
    "plt.plot(tab_y[1], tab_y[0], 'x', label= 'parareal',color='red')\n",
    "plt.quiver(tab_y[1][:-1], tab_y[0][:-1], tab_y[1][1:]-tab_y[1][:-1], tab_y[0][1:]-tab_y[0][:-1], scale_units='xy',scale=1, angles='xy', color='pink',width=0.008)\n",
    "plt.legend()\n",
    "plt.title('Parareal vs exact')\n"
   ]
  },
  {
   "cell_type": "markdown",
   "id": "7fbdf2cd-0d5f-4b77-993b-8fe32233c58a",
   "metadata": {},
   "source": [
    "## Error computation on parareal algorithm for harmonic oscillator"
   ]
  },
  {
   "cell_type": "markdown",
   "id": "c69df790-0a32-40d6-87ea-b677a0361d88",
   "metadata": {
    "tags": []
   },
   "source": [
    "### Error on y"
   ]
  },
  {
   "cell_type": "code",
   "execution_count": 5,
   "id": "00f74d0f-7187-4bf7-8f43-effc31b40b2f",
   "metadata": {},
   "outputs": [],
   "source": [
    "#tab_err = para.parareal_err(func.Oscillator, SO.tab_Stormer, SO.tab_Stormer, T//100, y0, dtf, dtg, N//100, epsilon)\n",
    "#plt.loglog(np.linspace(1,len(tab_err),len(tab_err)),tab_err, label = 'error on y')\n",
    "#plt.xlabel('Iteration')\n",
    "#plt.ylabel('Error')\n",
    "#plt.legend()"
   ]
  },
  {
   "cell_type": "markdown",
   "id": "eec2f510-fed5-4bc7-9ec2-cd183464af94",
   "metadata": {},
   "source": [
    "### Error on the Hamiltonian"
   ]
  },
  {
   "cell_type": "code",
   "execution_count": 6,
   "id": "90e4df96-62c8-4746-86cc-ea6290a41d77",
   "metadata": {},
   "outputs": [],
   "source": [
    "#tab_Ha = para.parareal_Ha_Oscillator(func.Oscillator, SO.Stormer, SO.Stormer, T, y0, dtf, dtg, N, epsilon)\n",
    "\n",
    "#kmax = len(tab_Ha)\n",
    "\n",
    "#tab_t = np.linspace(0,T,N+1)\n",
    "\n",
    "#tab_Ha0 = 0.5 * np.ones(len(tab_Ha[0,:]))\n",
    "%matplotlib widget\n",
    "\n",
    "#plt.loglog(tab_t,np.abs(tab_Ha[0,:]-tab_Ha0), label =\"f solver\")\n",
    "#plt.loglog(tab_t,np.abs(tab_Ha[1,:]-tab_Ha0), label =\"g solver\")\n",
    "#print(type(np.double(tab_Ha)))\n",
    "#for k in range(2,kmax):\n",
    "#    plt.loglog(tab_t,np.abs(tab_Ha[k,:]-tab_Ha0), label =f\"k={k-1}\")\n",
    "#    plt.xlabel('Time')\n",
    "#    plt.ylabel('Error')\n",
    "\n",
    "#plt.xlim(0.06, 10**3)\n",
    "#plt.ylim(10**(-10),10)\n",
    "#plt.legend()"
   ]
  },
  {
   "cell_type": "code",
   "execution_count": 7,
   "id": "44b44651-04be-48d8-9080-715b0912c752",
   "metadata": {},
   "outputs": [],
   "source": [
    "#for k in range(2,kmax):\n",
    "#    slope, intercept = np.polyfit(np.log(tab_t)[1:],np.log(np.abs(tab_Ha[k,:]-tab_Ha0))[1:],1)\n",
    "#    print(f\"pente {k-1}\", slope)\n",
    "\n"
   ]
  }
 ],
 "metadata": {
  "kernelspec": {
   "display_name": "Python 3 (ipykernel)",
   "language": "python",
   "name": "python3"
  },
  "language_info": {
   "codemirror_mode": {
    "name": "ipython",
    "version": 3
   },
   "file_extension": ".py",
   "mimetype": "text/x-python",
   "name": "python",
   "nbconvert_exporter": "python",
   "pygments_lexer": "ipython3",
   "version": "3.10.4"
  }
 },
 "nbformat": 4,
 "nbformat_minor": 5
}
