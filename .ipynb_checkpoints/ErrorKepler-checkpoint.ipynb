{
 "cells": [
  {
   "cell_type": "markdown",
   "id": "686e3879-cc19-403f-bd94-a5c3ad3dfbb3",
   "metadata": {},
   "source": [
    "# 2 body Kepler problem"
   ]
  },
  {
   "cell_type": "markdown",
   "id": "8ff7976c-190c-44a8-8346-8756c17e79c0",
   "metadata": {},
   "source": [
    "We have an Hamiltonian system\n",
    "$$\\dot{y} = J^{-1} \\nabla H(y) $$\n",
    "with $y = (p,q) \\in \\mathbb{R}^{2d}$ and $J=\\begin{pmatrix}0 & I \\\\ -I & 0 \\end{pmatrix} \\in M_{2d}(\\mathbb{R})$"
   ]
  },
  {
   "cell_type": "markdown",
   "id": "190fb3c2-d097-4632-bda5-e20f2c43db5e",
   "metadata": {},
   "source": [
    "In this case  $d=2$ and we have the following hamiltonian with $p =(p_1,p_2)$ and $q =(q_1,q_2)$ \n",
    "\\begin{equation}\n",
    "H(p,q) = \\frac{1}{2}\\left\\lVert  p\\right\\rVert_2^2 - \\frac{1}{\\left\\lVert  q\\right\\rVert_2}\n",
    "\\end{equation}\n",
    "\n",
    "Where we denote $\\left\\lVert  \\cdot\\right\\rVert_2$ as the euclidean norm on $\\mathbb{R}^{2d}$."
   ]
  },
  {
   "cell_type": "markdown",
   "id": "991339c8-0c30-4e25-9b96-263c817caa70",
   "metadata": {},
   "source": [
    "Thus we have\n",
    "\n",
    "$$\n",
    "\\left\\{\\begin{matrix}\n",
    "       \\frac{\\partial p}{\\partial t} &=& -\\frac{q}{\\left\\lVert  q\\right\\rVert_2^3} \\\\\n",
    "       \\frac{\\partial q}{\\partial t} &=& p\\\\\n",
    "\\end{matrix}\\right.\n",
    "$$\n"
   ]
  },
  {
   "cell_type": "markdown",
   "id": "90dd9fd2-1d9e-4dc2-ae23-6a21defa1722",
   "metadata": {
    "tags": []
   },
   "source": [
    "### Imports"
   ]
  },
  {
   "cell_type": "code",
   "execution_count": null,
   "id": "f274e912-f79e-403f-8dbe-f32568d51c1a",
   "metadata": {},
   "outputs": [],
   "source": [
    "import sys\n",
    "import parareal as para\n",
    "import RK2\n",
    "import RK4\n",
    "import StormerKepler as SK\n",
    "import HamiltonianFunctions as func\n",
    "import numpy as np\n",
    "import matplotlib.pyplot as plt\n",
    "#matplotlib.rcParams['figure.figsize'] = [10, 5]\n"
   ]
  },
  {
   "cell_type": "markdown",
   "id": "2982ed1b-2744-4b48-bd36-63efa3476118",
   "metadata": {
    "tags": []
   },
   "source": [
    "### Constants"
   ]
  },
  {
   "cell_type": "code",
   "execution_count": null,
   "id": "b6b812b5-0c63-4afb-832e-3e2018c1c46a",
   "metadata": {},
   "outputs": [],
   "source": [
    "T = 100\n",
    "N = 10*T\n",
    "delta_t = T/N\n",
    "e = 0.1\n",
    "y0 = np.double([0,np.sqrt((1+e)/(1-e)),1-e,0])\n",
    "dtg = delta_t\n",
    "dtf = dtg/100\n",
    "tab_t = np.linspace(0, T, N+1)\n",
    "print(\"T:\",T)\n",
    "print(\"N:\",N)\n",
    "print(\"delta_t:\",delta_t)\n",
    "print(\"dtg:\", dtg)\n",
    "print(\"dtf:\",dtf)"
   ]
  },
  {
   "cell_type": "markdown",
   "id": "bdfcd534-b937-4306-9407-2bd37588d015",
   "metadata": {},
   "source": [
    "## Plot"
   ]
  },
  {
   "cell_type": "code",
   "execution_count": null,
   "id": "9f0df3cd-eee7-470b-91b7-564b397664cf",
   "metadata": {},
   "outputs": [],
   "source": [
    "%matplotlib inline\n",
    "tab_y = para.parareal_bis(func.Kepler, SK.Stormer,SK.Stormer, y0, dtf, dtg, delta_t,T)\n",
    "\n",
    "\n",
    "sol_ex = SK.tab_Stormer(func.Kepler,0,T,y0,dtf)\n"
   ]
  },
  {
   "cell_type": "markdown",
   "id": "7fbdf2cd-0d5f-4b77-993b-8fe32233c58a",
   "metadata": {},
   "source": [
    "## Error computation on parareal algorithm for harmonic oscillator"
   ]
  },
  {
   "cell_type": "markdown",
   "id": "c69df790-0a32-40d6-87ea-b677a0361d88",
   "metadata": {
    "tags": []
   },
   "source": [
    "### Error on y"
   ]
  },
  {
   "cell_type": "code",
   "execution_count": null,
   "id": "00f74d0f-7187-4bf7-8f43-effc31b40b2f",
   "metadata": {},
   "outputs": [],
   "source": [
    "tab_err = para.err(tab_y,sol_ex)\n",
    "\n"
   ]
  },
  {
   "cell_type": "code",
   "execution_count": null,
   "id": "6fe65c1e-0dc6-47c2-8bb9-932bf47cedef",
   "metadata": {},
   "outputs": [],
   "source": [
    "plt.rcParams[\"figure.figsize\"] = (20,3)\n",
    "\n",
    "for k in range(2,len(tab_err)):\n",
    "    plt.loglog(tab_t,np.abs(tab_err[k,:]),label =f\"k:{k-1}\")\n",
    "\n",
    "plt.legend()\n",
    "plt.savefig(\"ErrorKeplerd01T10e3.pdf\")"
   ]
  },
  {
   "cell_type": "markdown",
   "id": "eec2f510-fed5-4bc7-9ec2-cd183464af94",
   "metadata": {},
   "source": [
    "### Error on the Hamiltonian"
   ]
  },
  {
   "cell_type": "code",
   "execution_count": null,
   "id": "90e4df96-62c8-4746-86cc-ea6290a41d77",
   "metadata": {},
   "outputs": [],
   "source": [
    "Ha0 = 0.5*(y0[0]**2+y0[1]**2) - 1/np.sqrt(y0[2]**2 + y0[3]**2)\n",
    "tab_Ha0 = Ha0*np.ones(len(tab_y[0]))\n",
    "tab_Ha = para.Ha_err(tab_y,tab_Ha0,func.HaKepler)\n",
    "kmax = len(tab_Ha)\n",
    "\n",
    "\n",
    "\n",
    "\n"
   ]
  },
  {
   "cell_type": "code",
   "execution_count": null,
   "id": "44b44651-04be-48d8-9080-715b0912c752",
   "metadata": {},
   "outputs": [],
   "source": [
    "#plt.plot(tab_t,np.power(tab_t,2)/10**5.6,label='t^2')\n",
    "#plt.plot(tab_t,np.power(tab_t,4)/10**9.4,label='t^4')\n",
    "#plt.plot(tab_t,np.power(tab_t,6)/10**13.7,label='t^6')\n",
    "#plt.plot(tab_t,np.power(tab_t,8)/10**18,label='t^8')\n",
    "#plt.plot(tab_t,np.power(tab_t,10)/10**22,label='t^10')\n",
    "#plt.plot(tab_t,np.power(tab_t,12)/10**24,label='t^12')\n",
    "#plt.legend()\n"
   ]
  },
  {
   "cell_type": "code",
   "execution_count": null,
   "id": "3df16656-76f6-43de-88d9-d93309eccc50",
   "metadata": {},
   "outputs": [],
   "source": [
    "# Tests for dynamic plot updates\n",
    "#-------------------------------\n",
    "%matplotlib widget\n",
    "fig,(ax1,ax2) = plt.subplots(2,1,figsize=(20,3))\n",
    "\n",
    "\n",
    "\n",
    "\n",
    "for k in range(kmax):\n",
    "    ax1.loglog(tab_t,tab_Ha[k,:])\n",
    "\n",
    "ax1.set(title='Energy Error', xlabel='Time',ylabel='Hamiltonian Error')\n",
    "ax1.set_xlim(1,T)\n",
    "ax1.legend(['f','g','1','2','3','4','5','6'] )\n",
    "\n",
    "for k in range(len(tab_err)):\n",
    "    ax2loglog(tab_t,np.abs(tab_err[k,:]))\n",
    "\n",
    "    \n",
    "ax2.set(title='Absolute Error', xlabel='Time',ylabel='Absolute Error')\n",
    "ax2.legend(['f','g','1','2','3','4','5','6'] )\n"
   ]
  },
  {
   "cell_type": "code",
   "execution_count": null,
   "id": "b71e0d42-3b5b-4894-96f6-8e83373ef46b",
   "metadata": {},
   "outputs": [],
   "source": []
  }
 ],
 "metadata": {
  "kernelspec": {
   "display_name": "Python 3 (ipykernel)",
   "language": "python",
   "name": "python3"
  },
  "language_info": {
   "codemirror_mode": {
    "name": "ipython",
    "version": 3
   },
   "file_extension": ".py",
   "mimetype": "text/x-python",
   "name": "python",
   "nbconvert_exporter": "python",
   "pygments_lexer": "ipython3",
   "version": "3.10.4"
  }
 },
 "nbformat": 4,
 "nbformat_minor": 5
}
