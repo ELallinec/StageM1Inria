{
 "cells": [
  {
   "cell_type": "markdown",
   "id": "bb133943-575a-4384-877f-b4584614b46e",
   "metadata": {},
   "source": [
    "# Vlasov equation"
   ]
  },
  {
   "cell_type": "markdown",
   "id": "016b8722-7863-4931-b971-97388034dec6",
   "metadata": {},
   "source": [
    "\n",
    "\\begin{equation} \\left\\{\\begin{matrix}\n",
    "\\frac{\\mathrm{d}\\mathbf{x}_\\epsilon}{\\mathrm{d}t}&=& \\mathbf{v}_\\epsilon, & \\hspace{1cm} \\mathbf{x}_\\epsilon(s) = \\mathbf{x}\\\\\n",
    "\\frac{\\mathrm{d}\\mathbf{v}_\\epsilon}{\\mathrm{d}t} &=& \\frac{1}{\\epsilon}\\left(\\mathbf{v}_\\epsilon\\times \\mathcal{M}(\\mathbf{x}_\\varepsilon)\\right) +\\mathbf{v}_\\varepsilon \\times \\mathbf{e}_3,& \\hspace{1cm}\\mathbf{v}_\\epsilon(s)=\\mathbf{v}\n",
    "\\end{matrix}\\right. \n",
    "\\end{equation}\n",
    "with $\\displaystyle{\\mathcal{M}(\\mathbf{x})= \\frac{1}{\\sqrt{x_1^2+x_2^2}} \\begin{pmatrix}-\\mathbf{x}_2 \\\\ \\mathbf{x}_1 \\\\ 0\\end{pmatrix}}$\n"
   ]
  },
  {
   "cell_type": "markdown",
   "id": "807bb1fa-2a16-43f7-a5fc-6908a5c8e70b",
   "metadata": {},
   "source": [
    "## Strong variable magnetic field"
   ]
  },
  {
   "cell_type": "code",
   "execution_count": 1,
   "id": "22d38e63-e7ac-4530-a423-680e0a480127",
   "metadata": {},
   "outputs": [],
   "source": [
    "import matplotlib.pyplot as plt\n",
    "import numpy as np\n",
    "import parareal as para\n",
    "import HamiltonianFunctions as func\n",
    "import RK4 as RK4\n",
    "import RK2 as RK2\n",
    "import StrongVariableMagneticField as SVMF\n",
    "s = 0\n",
    "eps = 0.001\n",
    "x = np.longdouble([0,1,1])\n",
    "v = np.longdouble([1,eps,0])\n",
    "y0 = np.concatenate((x,v))\n",
    "T = 500*eps\n",
    "N = 8\n",
    "delta_t = T/N\n",
    "kmax = 8\n",
    "\n"
   ]
  },
  {
   "cell_type": "code",
   "execution_count": 2,
   "id": "6d9c3d53-e423-42ab-80ab-71cd391bef1d",
   "metadata": {},
   "outputs": [
    {
     "ename": "AttributeError",
     "evalue": "module 'StrongVariableMagneticField' has no attribute 'tab_RK4_magnetic'",
     "output_type": "error",
     "traceback": [
      "\u001b[0;31m---------------------------------------------------------------------------\u001b[0m",
      "\u001b[0;31mAttributeError\u001b[0m                            Traceback (most recent call last)",
      "Input \u001b[0;32mIn [2]\u001b[0m, in \u001b[0;36m<cell line: 1>\u001b[0;34m()\u001b[0m\n\u001b[0;32m----> 1\u001b[0m y_tab\u001b[38;5;241m=\u001b[39m\u001b[43mSVMF\u001b[49m\u001b[38;5;241;43m.\u001b[39;49m\u001b[43mtab_RK4_magnetic\u001b[49m(func\u001b[38;5;241m.\u001b[39mVariableMagneticField,s,T,y0,T\u001b[38;5;241m/\u001b[39m\u001b[38;5;241m6400\u001b[39m,eps)\n",
      "\u001b[0;31mAttributeError\u001b[0m: module 'StrongVariableMagneticField' has no attribute 'tab_RK4_magnetic'"
     ]
    }
   ],
   "source": [
    "y_tab=SVMF.tab_RK4_magnetic(func.VariableMagneticField,s,T,y0,T/6400,eps)\n"
   ]
  },
  {
   "cell_type": "code",
   "execution_count": null,
   "id": "e2421511-a141-4304-86a1-1a3d95488f62",
   "metadata": {},
   "outputs": [],
   "source": [
    "%matplotlib widget\n",
    "\n",
    "fig = plt.figure(figsize=(15,7))\n",
    "ax = plt.axes(projection='3d')\n",
    "\n",
    "ax.plot3D(y_tab[0],y_tab[1],y_tab[2], 'red')"
   ]
  },
  {
   "cell_type": "code",
   "execution_count": null,
   "id": "b22afd78-e8fb-4c89-8dc6-250e9f7a0074",
   "metadata": {},
   "outputs": [],
   "source": [
    "test= SVMF.approx_tab(s,np.linspace(0,T,N+1),y0,T/N,eps)"
   ]
  },
  {
   "cell_type": "code",
   "execution_count": null,
   "id": "43eaa006-2964-4b0d-a4c6-16bad5dec9fd",
   "metadata": {},
   "outputs": [],
   "source": [
    "fig1 = plt.figure(figsize=(15,7))\n",
    "ax1 = plt.axes(projection='3d')\n",
    "\n",
    "ax1.plot3D(test[:,0],test[:,1],test[:,2], 'red')"
   ]
  },
  {
   "cell_type": "code",
   "execution_count": null,
   "id": "30e356af-5b71-4042-87a8-60bd476beb07",
   "metadata": {},
   "outputs": [],
   "source": [
    "sol = SVMF.parareal_bis_magnetic(func.VariableMagneticField,SVMF.RK4,SVMF.approx,y0,eps,T/6400,delta_t,T,kmax)"
   ]
  },
  {
   "cell_type": "code",
   "execution_count": null,
   "id": "6b592435-83c9-468f-9ec3-489156b2df5a",
   "metadata": {},
   "outputs": [],
   "source": [
    "fig2 = plt.figure(figsize=(15,7))\n",
    "ax2 = plt.axes(projection='3d')\n",
    "\n",
    "ax2.plot3D(sol[-1,:,0],sol[-1,:,1],sol[-1,:,2], 'red')"
   ]
  },
  {
   "cell_type": "code",
   "execution_count": null,
   "id": "5a062578-3c06-4a63-b1dd-8526e7a2d432",
   "metadata": {},
   "outputs": [],
   "source": [
    "fig4,ax4 = plt.subplots(1,figsize=(15,7))\n",
    "\n",
    "y_tab = SVMF.tab_RK4_magnetic(func.VariableMagneticField,s,T,y0,T/6400,eps)\n",
    "normans = np.zeros(N+1)\n",
    "for n in range(N+1):\n",
    "    normans[n] = np.linalg.norm(y_tab[:,800*n],1)\n",
    "maxans = np.max(normans)\n",
    "err = np.zeros((kmax+1,N+1))\n",
    "Err= np.zeros(kmax+1)\n",
    "for k in range(kmax+1):\n",
    "    for n in range(N+1):\n",
    "        err[k,n]= np.linalg.norm(y_tab[:,n*800] - sol[k+1,n,:],1)\n",
    "    Err[k] = np.max(err[k])/maxans\n",
    "ax4.plot([k for k in range(kmax+1)],Err,'x-')\n",
    "ax4.set_yscale('log')\n",
    "print(Err)"
   ]
  },
  {
   "cell_type": "code",
   "execution_count": null,
   "id": "83645547-107b-4016-ac41-e0ff9bff6a44",
   "metadata": {},
   "outputs": [],
   "source": []
  }
 ],
 "metadata": {
  "kernelspec": {
   "display_name": "Python 3 (ipykernel)",
   "language": "python",
   "name": "python3"
  },
  "language_info": {
   "codemirror_mode": {
    "name": "ipython",
    "version": 3
   },
   "file_extension": ".py",
   "mimetype": "text/x-python",
   "name": "python",
   "nbconvert_exporter": "python",
   "pygments_lexer": "ipython3",
   "version": "3.10.4"
  }
 },
 "nbformat": 4,
 "nbformat_minor": 5
}
