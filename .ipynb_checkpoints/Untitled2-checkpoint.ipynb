{
 "cells": [
  {
   "cell_type": "markdown",
   "id": "bb133943-575a-4384-877f-b4584614b46e",
   "metadata": {},
   "source": [
    "# Vlasov equation"
   ]
  },
  {
   "cell_type": "markdown",
   "id": "016b8722-7863-4931-b971-97388034dec6",
   "metadata": {},
   "source": [
    "\n",
    "\\begin{equation} \\left\\{\\begin{matrix}\n",
    "\\frac{\\mathrm{d}\\mathbf{x}_\\epsilon}{\\mathrm{d}t}&=& \\mathbf{v}_\\epsilon, & \\hspace{1cm} \\mathbf{x}_\\epsilon(s) = \\mathbf{x}\\\\\n",
    "\\frac{\\mathrm{d}\\mathbf{v}_\\epsilon}{\\mathrm{d}t} &=& \\frac{1}{\\epsilon}(\\mathbf{v}_\\epsilon)^\\perp + \\mathbf{E}(\\mathbf{x}_\\epsilon),& \\hspace{1cm}\\mathbf{v}_\\epsilon(s)=\\mathbf{v}\n",
    "\\end{matrix}\\right. \n",
    "\\end{equation}\n",
    "with $\\displaystyle{(\\mathbf{v}_\\epsilon)^\\perp=(0,\\mathbf{v}_{\\epsilon,3},-\\mathbf{v}_{\\epsilon,2} )^\\intercal}$, \n"
   ]
  },
  {
   "cell_type": "markdown",
   "id": "807bb1fa-2a16-43f7-a5fc-6908a5c8e70b",
   "metadata": {},
   "source": [
    "## Uniform time varying electric field"
   ]
  },
  {
   "cell_type": "code",
   "execution_count": null,
   "id": "22d38e63-e7ac-4530-a423-680e0a480127",
   "metadata": {},
   "outputs": [],
   "source": []
  },
  {
   "cell_type": "markdown",
   "id": "97b40033-29bf-43e5-8f93-8e5cd0d59511",
   "metadata": {},
   "source": [
    "## Non uniform stationary electric field"
   ]
  },
  {
   "cell_type": "markdown",
   "id": "42533da4-74eb-48ae-abb6-05dbfe288722",
   "metadata": {},
   "source": [
    "If we take the electric field $\\mathbf{E}(\\mathbf{x})$ as \n",
    "$$\\mathbf{E} (\\mathbf{x}) = c\\begin{pmatrix} -\\mathbf{x}_1 \\\\ \\frac{\\mathbf{x}_2}{2} \\\\ \\frac{\\mathbf{x}_3}{2} \\end{pmatrix}$$\n",
    "with $c > 0$\n",
    "\n",
    "Then this system describes the dynamics of a charged particle in an ideal Penning trap."
   ]
  },
  {
   "cell_type": "markdown",
   "id": "73cd1238-5dc3-4449-a1ce-d03d776865c1",
   "metadata": {},
   "source": [
    "Under the assumption $\\displaystyle{\\frac{1}{\\varepsilon} > \\sqrt{2c}}$ we have an analytical solution to this problem that can be written as\n",
    "\n",
    "$$\\left\\{\\begin{matrix}\\mathbf{x}_\\varepsilon(t) = \\begin{pmatrix} \n",
    "c_1\\cos(\\sqrt{c}(t-s)) + c_2\\sin(\\sqrt{c}(t-s)) \\\\\n",
    "a_1\\sin(a_\\varepsilon(t-s)) - a_2\\cos(a_\\varepsilon(t-s)) + b_1\\sin(b_\\varepsilon(t-s)) - b_2\\cos(b_\\varepsilon(t-s))  \\\\\n",
    "a_1\\cos(a_\\varepsilon(t-s)) + a_2\\cos(a_\\varepsilon(t-s)) + b_1\\cos(b_\\varepsilon(t-s)) + b_2\\cos(b_\\varepsilon(t-s)) \n",
    "\\end{pmatrix} \\\\\n",
    "\\mathbf{v}_\\varepsilon(t) = \\frac{\\mathrm{d}\\mathbf{x}_\\varepsilon}{\\mathrm{d}t} \\end{matrix}\\right.  $$\n"
   ]
  },
  {
   "cell_type": "code",
   "execution_count": 1,
   "id": "bcb95b96-81c4-47d7-9853-79f73d5a843d",
   "metadata": {},
   "outputs": [],
   "source": [
    "import Vlasov as V\n",
    "import matplotlib.pyplot as plt\n",
    "import numpy as np\n",
    "import parareal as para\n",
    "import HamiltonianFunctions as func\n",
    "import RK4 as RK4\n",
    "s = 0\n",
    "\n",
    "x = np.array([1,1,1])\n",
    "v = np.array([1,1,1])\n",
    "c = 2 \n",
    "eps = 0.01\n",
    "T = 2*np.pi*eps\n",
    "N = 8\n",
    "delta_t = T/N\n",
    "tab_t = np.linspace(s,T,N+1)\n",
    "dtg = 1\n",
    "dtf = T/80\n",
    "ans = V.sol_ex_tab(tab_t,s,x,v,c,eps)"
   ]
  },
  {
   "cell_type": "code",
   "execution_count": 2,
   "id": "0de8e7bd-53bf-48ab-a411-d1ccaa7b873d",
   "metadata": {},
   "outputs": [
    {
     "name": "stdout",
     "output_type": "stream",
     "text": [
      "k: 1\n",
      "k: 2\n",
      "k: 3\n",
      "k: 4\n",
      "k: 5\n",
      "k: 6\n",
      "k: 7\n",
      "k: 8\n"
     ]
    }
   ],
   "source": [
    "tab_y = V.parareal_vlasov(func.Vlasov,RK4.RK4,x,v,s,tab_t,c,eps,delta_t,N,dtg)"
   ]
  },
  {
   "cell_type": "code",
   "execution_count": 5,
   "id": "9e3181b2-1dc1-492c-b31d-d1c662b18cee",
   "metadata": {},
   "outputs": [],
   "source": [
    "for n in range(N+1):\n",
    "    err = np.linalg.norm(tab_y[2,n]-ans[:,n],1)"
   ]
  },
  {
   "cell_type": "code",
   "execution_count": 6,
   "id": "10c1d958-03d7-4dfb-a31b-464423772015",
   "metadata": {},
   "outputs": [
    {
     "ename": "ValueError",
     "evalue": "x and y must have same first dimension, but have shapes (9,) and (1,)",
     "output_type": "error",
     "traceback": [
      "\u001b[0;31m---------------------------------------------------------------------------\u001b[0m",
      "\u001b[0;31mValueError\u001b[0m                                Traceback (most recent call last)",
      "Input \u001b[0;32mIn [6]\u001b[0m, in \u001b[0;36m<cell line: 1>\u001b[0;34m()\u001b[0m\n\u001b[0;32m----> 1\u001b[0m \u001b[43mplt\u001b[49m\u001b[38;5;241;43m.\u001b[39;49m\u001b[43mplot\u001b[49m\u001b[43m(\u001b[49m\u001b[43mtab_t\u001b[49m\u001b[43m,\u001b[49m\u001b[43merr\u001b[49m\u001b[43m)\u001b[49m\n",
      "File \u001b[0;32m~/.local/lib/python3.10/site-packages/matplotlib/pyplot.py:2769\u001b[0m, in \u001b[0;36mplot\u001b[0;34m(scalex, scaley, data, *args, **kwargs)\u001b[0m\n\u001b[1;32m   2767\u001b[0m \u001b[38;5;129m@_copy_docstring_and_deprecators\u001b[39m(Axes\u001b[38;5;241m.\u001b[39mplot)\n\u001b[1;32m   2768\u001b[0m \u001b[38;5;28;01mdef\u001b[39;00m \u001b[38;5;21mplot\u001b[39m(\u001b[38;5;241m*\u001b[39margs, scalex\u001b[38;5;241m=\u001b[39m\u001b[38;5;28;01mTrue\u001b[39;00m, scaley\u001b[38;5;241m=\u001b[39m\u001b[38;5;28;01mTrue\u001b[39;00m, data\u001b[38;5;241m=\u001b[39m\u001b[38;5;28;01mNone\u001b[39;00m, \u001b[38;5;241m*\u001b[39m\u001b[38;5;241m*\u001b[39mkwargs):\n\u001b[0;32m-> 2769\u001b[0m     \u001b[38;5;28;01mreturn\u001b[39;00m \u001b[43mgca\u001b[49m\u001b[43m(\u001b[49m\u001b[43m)\u001b[49m\u001b[38;5;241;43m.\u001b[39;49m\u001b[43mplot\u001b[49m\u001b[43m(\u001b[49m\n\u001b[1;32m   2770\u001b[0m \u001b[43m        \u001b[49m\u001b[38;5;241;43m*\u001b[39;49m\u001b[43margs\u001b[49m\u001b[43m,\u001b[49m\u001b[43m \u001b[49m\u001b[43mscalex\u001b[49m\u001b[38;5;241;43m=\u001b[39;49m\u001b[43mscalex\u001b[49m\u001b[43m,\u001b[49m\u001b[43m \u001b[49m\u001b[43mscaley\u001b[49m\u001b[38;5;241;43m=\u001b[39;49m\u001b[43mscaley\u001b[49m\u001b[43m,\u001b[49m\n\u001b[1;32m   2771\u001b[0m \u001b[43m        \u001b[49m\u001b[38;5;241;43m*\u001b[39;49m\u001b[38;5;241;43m*\u001b[39;49m\u001b[43m(\u001b[49m\u001b[43m{\u001b[49m\u001b[38;5;124;43m\"\u001b[39;49m\u001b[38;5;124;43mdata\u001b[39;49m\u001b[38;5;124;43m\"\u001b[39;49m\u001b[43m:\u001b[49m\u001b[43m \u001b[49m\u001b[43mdata\u001b[49m\u001b[43m}\u001b[49m\u001b[43m \u001b[49m\u001b[38;5;28;43;01mif\u001b[39;49;00m\u001b[43m \u001b[49m\u001b[43mdata\u001b[49m\u001b[43m \u001b[49m\u001b[38;5;129;43;01mis\u001b[39;49;00m\u001b[43m \u001b[49m\u001b[38;5;129;43;01mnot\u001b[39;49;00m\u001b[43m \u001b[49m\u001b[38;5;28;43;01mNone\u001b[39;49;00m\u001b[43m \u001b[49m\u001b[38;5;28;43;01melse\u001b[39;49;00m\u001b[43m \u001b[49m\u001b[43m{\u001b[49m\u001b[43m}\u001b[49m\u001b[43m)\u001b[49m\u001b[43m,\u001b[49m\u001b[43m \u001b[49m\u001b[38;5;241;43m*\u001b[39;49m\u001b[38;5;241;43m*\u001b[39;49m\u001b[43mkwargs\u001b[49m\u001b[43m)\u001b[49m\n",
      "File \u001b[0;32m~/.local/lib/python3.10/site-packages/matplotlib/axes/_axes.py:1632\u001b[0m, in \u001b[0;36mAxes.plot\u001b[0;34m(self, scalex, scaley, data, *args, **kwargs)\u001b[0m\n\u001b[1;32m   1390\u001b[0m \u001b[38;5;124;03m\"\"\"\u001b[39;00m\n\u001b[1;32m   1391\u001b[0m \u001b[38;5;124;03mPlot y versus x as lines and/or markers.\u001b[39;00m\n\u001b[1;32m   1392\u001b[0m \n\u001b[0;32m   (...)\u001b[0m\n\u001b[1;32m   1629\u001b[0m \u001b[38;5;124;03m(``'green'``) or hex strings (``'#008000'``).\u001b[39;00m\n\u001b[1;32m   1630\u001b[0m \u001b[38;5;124;03m\"\"\"\u001b[39;00m\n\u001b[1;32m   1631\u001b[0m kwargs \u001b[38;5;241m=\u001b[39m cbook\u001b[38;5;241m.\u001b[39mnormalize_kwargs(kwargs, mlines\u001b[38;5;241m.\u001b[39mLine2D)\n\u001b[0;32m-> 1632\u001b[0m lines \u001b[38;5;241m=\u001b[39m [\u001b[38;5;241m*\u001b[39m\u001b[38;5;28mself\u001b[39m\u001b[38;5;241m.\u001b[39m_get_lines(\u001b[38;5;241m*\u001b[39margs, data\u001b[38;5;241m=\u001b[39mdata, \u001b[38;5;241m*\u001b[39m\u001b[38;5;241m*\u001b[39mkwargs)]\n\u001b[1;32m   1633\u001b[0m \u001b[38;5;28;01mfor\u001b[39;00m line \u001b[38;5;129;01min\u001b[39;00m lines:\n\u001b[1;32m   1634\u001b[0m     \u001b[38;5;28mself\u001b[39m\u001b[38;5;241m.\u001b[39madd_line(line)\n",
      "File \u001b[0;32m~/.local/lib/python3.10/site-packages/matplotlib/axes/_base.py:312\u001b[0m, in \u001b[0;36m_process_plot_var_args.__call__\u001b[0;34m(self, data, *args, **kwargs)\u001b[0m\n\u001b[1;32m    310\u001b[0m     this \u001b[38;5;241m+\u001b[39m\u001b[38;5;241m=\u001b[39m args[\u001b[38;5;241m0\u001b[39m],\n\u001b[1;32m    311\u001b[0m     args \u001b[38;5;241m=\u001b[39m args[\u001b[38;5;241m1\u001b[39m:]\n\u001b[0;32m--> 312\u001b[0m \u001b[38;5;28;01myield from\u001b[39;00m \u001b[38;5;28;43mself\u001b[39;49m\u001b[38;5;241;43m.\u001b[39;49m\u001b[43m_plot_args\u001b[49m\u001b[43m(\u001b[49m\u001b[43mthis\u001b[49m\u001b[43m,\u001b[49m\u001b[43m \u001b[49m\u001b[43mkwargs\u001b[49m\u001b[43m)\u001b[49m\n",
      "File \u001b[0;32m~/.local/lib/python3.10/site-packages/matplotlib/axes/_base.py:498\u001b[0m, in \u001b[0;36m_process_plot_var_args._plot_args\u001b[0;34m(self, tup, kwargs, return_kwargs)\u001b[0m\n\u001b[1;32m    495\u001b[0m     \u001b[38;5;28mself\u001b[39m\u001b[38;5;241m.\u001b[39maxes\u001b[38;5;241m.\u001b[39myaxis\u001b[38;5;241m.\u001b[39mupdate_units(y)\n\u001b[1;32m    497\u001b[0m \u001b[38;5;28;01mif\u001b[39;00m x\u001b[38;5;241m.\u001b[39mshape[\u001b[38;5;241m0\u001b[39m] \u001b[38;5;241m!=\u001b[39m y\u001b[38;5;241m.\u001b[39mshape[\u001b[38;5;241m0\u001b[39m]:\n\u001b[0;32m--> 498\u001b[0m     \u001b[38;5;28;01mraise\u001b[39;00m \u001b[38;5;167;01mValueError\u001b[39;00m(\u001b[38;5;124mf\u001b[39m\u001b[38;5;124m\"\u001b[39m\u001b[38;5;124mx and y must have same first dimension, but \u001b[39m\u001b[38;5;124m\"\u001b[39m\n\u001b[1;32m    499\u001b[0m                      \u001b[38;5;124mf\u001b[39m\u001b[38;5;124m\"\u001b[39m\u001b[38;5;124mhave shapes \u001b[39m\u001b[38;5;132;01m{\u001b[39;00mx\u001b[38;5;241m.\u001b[39mshape\u001b[38;5;132;01m}\u001b[39;00m\u001b[38;5;124m and \u001b[39m\u001b[38;5;132;01m{\u001b[39;00my\u001b[38;5;241m.\u001b[39mshape\u001b[38;5;132;01m}\u001b[39;00m\u001b[38;5;124m\"\u001b[39m)\n\u001b[1;32m    500\u001b[0m \u001b[38;5;28;01mif\u001b[39;00m x\u001b[38;5;241m.\u001b[39mndim \u001b[38;5;241m>\u001b[39m \u001b[38;5;241m2\u001b[39m \u001b[38;5;129;01mor\u001b[39;00m y\u001b[38;5;241m.\u001b[39mndim \u001b[38;5;241m>\u001b[39m \u001b[38;5;241m2\u001b[39m:\n\u001b[1;32m    501\u001b[0m     \u001b[38;5;28;01mraise\u001b[39;00m \u001b[38;5;167;01mValueError\u001b[39;00m(\u001b[38;5;124mf\u001b[39m\u001b[38;5;124m\"\u001b[39m\u001b[38;5;124mx and y can be no greater than 2D, but have \u001b[39m\u001b[38;5;124m\"\u001b[39m\n\u001b[1;32m    502\u001b[0m                      \u001b[38;5;124mf\u001b[39m\u001b[38;5;124m\"\u001b[39m\u001b[38;5;124mshapes \u001b[39m\u001b[38;5;132;01m{\u001b[39;00mx\u001b[38;5;241m.\u001b[39mshape\u001b[38;5;132;01m}\u001b[39;00m\u001b[38;5;124m and \u001b[39m\u001b[38;5;132;01m{\u001b[39;00my\u001b[38;5;241m.\u001b[39mshape\u001b[38;5;132;01m}\u001b[39;00m\u001b[38;5;124m\"\u001b[39m)\n",
      "\u001b[0;31mValueError\u001b[0m: x and y must have same first dimension, but have shapes (9,) and (1,)"
     ]
    },
    {
     "data": {
      "image/png": "[encoded data removed]",
      "text/plain": [
       "<Figure size 432x288 with 1 Axes>"
      ]
     },
     "metadata": {
      "needs_background": "light"
     },
     "output_type": "display_data"
    }
   ],
   "source": [
    "plt.plot(tab_t,err)"
   ]
  },
  {
   "cell_type": "code",
   "execution_count": null,
   "id": "dc8d13d3-b495-4e7c-afc3-14c221c8125a",
   "metadata": {},
   "outputs": [],
   "source": []
  }
 ],
 "metadata": {
  "kernelspec": {
   "display_name": "Python 3 (ipykernel)",
   "language": "python",
   "name": "python3"
  },
  "language_info": {
   "codemirror_mode": {
    "name": "ipython",
    "version": 3
   },
   "file_extension": ".py",
   "mimetype": "text/x-python",
   "name": "python",
   "nbconvert_exporter": "python",
   "pygments_lexer": "ipython3",
   "version": "3.10.4"
  }
 },
 "nbformat": 4,
 "nbformat_minor": 5
}
