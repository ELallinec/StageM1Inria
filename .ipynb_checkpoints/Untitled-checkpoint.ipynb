{
 "cells": [
  {
   "cell_type": "code",
   "execution_count": 2,
   "id": "6209f587-314b-415e-8474-f9660982d410",
   "metadata": {},
   "outputs": [
    {
     "name": "stdout",
     "output_type": "stream",
     "text": [
      "1\n",
      "2\n",
      "3\n",
      "4\n",
      "5\n",
      "6\n",
      "C =\n",
      "{\n",
      "  [1,1] = k\n",
      "  [1,2] = b\n",
      "  [1,3] = r\n",
      "  [1,4] = g\n",
      "  [1,5] = y\n",
      "  [1,6] = p\n",
      "  [1,7] = f\n",
      "  [1,8] = c\n",
      "}\n",
      "\n",
      "error: 'color' undefined near line 2, column 2\n",
      "\n",
      "The 'color' function belongs to the optim package from Octave Forge\n",
      "which seems to not be installed in your system.\n",
      "\n",
      "Please read <https://www.octave.org/missing.html> to learn how you can\n",
      "contribute missing functionality.\n"
     ]
    }
   ],
   "source": [
    "T = 10;\n",
    "N = 10*T;\n",
    "delta_T = T/N;\n",
    "dtg = delta_T;\n",
    "dtf= dtg/100;\n",
    "y0 = [0; 1];\n",
    "\n",
    "%y =parareal(T,y0,dtf,dtg,N);\n",
    "%plot(y(2,:),y(1,:));\n",
    "Ha = parareal_Ha(T,y0,dtf,dtg,N);\n",
    "tab_t = linspace(0,T,N+1);\n",
    "H0 = 0.5*ones(1,N+1);\n",
    "C = {'k','b','r','g','y','m','w','c'}\n",
    "for k=1:rows(Ha)\n",
    "  loglog(tab_t(2:end),norm(Ha(k,2:end)-H0(2:end)),\"color\",C{k});\n",
    "  hold on;\n",
    "endfor\n",
    "\n"
   ]
  },
  {
   "cell_type": "code",
   "execution_count": null,
   "id": "03295272-8f96-4e2a-af36-12be08fcd237",
   "metadata": {},
   "outputs": [],
   "source": []
  }
 ],
 "metadata": {
  "kernelspec": {
   "display_name": "Octave",
   "language": "octave",
   "name": "octave"
  },
  "language_info": {
   "file_extension": ".m",
   "help_links": [
    {
     "text": "GNU Octave",
     "url": "https://www.gnu.org/software/octave/support.html"
    },
    {
     "text": "Octave Kernel",
     "url": "https://github.com/Calysto/octave_kernel"
    },
    {
     "text": "MetaKernel Magics",
     "url": "https://metakernel.readthedocs.io/en/latest/source/README.html"
    }
   ],
   "mimetype": "text/x-octave",
   "name": "octave",
   "version": "6.4.0"
  }
 },
 "nbformat": 4,
 "nbformat_minor": 5
}
