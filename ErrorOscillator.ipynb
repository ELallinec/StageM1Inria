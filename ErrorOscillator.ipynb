{
 "cells": [
  {
   "cell_type": "markdown",
   "id": "686e3879-cc19-403f-bd94-a5c3ad3dfbb3",
   "metadata": {},
   "source": [
    "# Harmonic oscillator "
   ]
  },
  {
   "cell_type": "markdown",
   "id": "8ff7976c-190c-44a8-8346-8756c17e79c0",
   "metadata": {},
   "source": [
    "We have an Hamiltonian system\n",
    "$$\\dot{y} = J^{-1} \\nabla H(y) $$\n",
    "with $y = (p,q) \\in \\mathbb{R}^{2d}$ and $J=\\begin{pmatrix}0 & I \\\\ -I & 0 \\end{pmatrix} \\in M_{2d}(\\mathbb{R})$"
   ]
  },
  {
   "cell_type": "markdown",
   "id": "190fb3c2-d097-4632-bda5-e20f2c43db5e",
   "metadata": {},
   "source": [
    "In this case  $d=1$ and we have the following hamiltonian\n",
    "\\begin{equation}\n",
    "H(p,q) = \\frac{1}{2}\\left(p^2 + q ^2\\right)\n",
    "\\end{equation}"
   ]
  },
  {
   "cell_type": "markdown",
   "id": "991339c8-0c30-4e25-9b96-263c817caa70",
   "metadata": {},
   "source": [
    "Thus\n",
    "\n",
    "$$\n",
    "\\left\\{\\begin{matrix}\n",
    "       \\frac{\\partial p}{\\partial t} &=& - q \\\\\n",
    "       \\frac{\\partial q}{\\partial t} &=& p\\\\\n",
    "\\end{matrix}\\right.\n",
    "$$\n"
   ]
  },
  {
   "cell_type": "markdown",
   "id": "90dd9fd2-1d9e-4dc2-ae23-6a21defa1722",
   "metadata": {
    "tags": []
   },
   "source": [
    "### Imports"
   ]
  },
  {
   "cell_type": "code",
   "execution_count": 1,
   "id": "f274e912-f79e-403f-8dbe-f32568d51c1a",
   "metadata": {},
   "outputs": [],
   "source": [
    "import sys\n",
    "sys.path.append('Euler')\n",
    "import EulerImplicitOscillator as EIO\n",
    "import parareal as para\n",
    "import RK2\n",
    "import RK4\n",
    "import StormerOscillator as SO\n",
    "import HamiltonianFunctions as func\n",
    "import numpy as np\n",
    "import matplotlib.pyplot as plt\n",
    "#matplotlib.rcParams['figure.figsize'] = [10, 5]\n",
    "\n"
   ]
  },
  {
   "cell_type": "markdown",
   "id": "2982ed1b-2744-4b48-bd36-63efa3476118",
   "metadata": {
    "tags": []
   },
   "source": [
    "### Constants"
   ]
  },
  {
   "cell_type": "code",
   "execution_count": 2,
   "id": "b6b812b5-0c63-4afb-832e-3e2018c1c46a",
   "metadata": {},
   "outputs": [
    {
     "name": "stdout",
     "output_type": "stream",
     "text": [
      "T: 100000\n",
      "N: 10000000\n",
      "delta_t: 0.01\n",
      "dtg: 0.01\n",
      "dtf: 0.0001\n"
     ]
    }
   ],
   "source": [
    "T = 100000\n",
    "N = 100*T\n",
    "y0 = np.array([0, 1])\n",
    "delta_t = T/N\n",
    "dtg = delta_t\n",
    "dtf = dtg/100\n",
    "kmax = 8\n",
    "tab_t = np.linspace(0,T,N+1)\n",
    "#sol_ex = SO.tab_Stormer(func.Oscillator,0,T,y0,dtf)\n",
    "sol_ex = np.array([-np.sin(tab_t),np.cos(tab_t)])\n",
    "print(\"T:\",T)\n",
    "print(\"N:\",N)\n",
    "print(\"delta_t:\",delta_t)\n",
    "print(\"dtg:\", dtg)\n",
    "print(\"dtf:\",dtf)"
   ]
  },
  {
   "cell_type": "markdown",
   "id": "bdfcd534-b937-4306-9407-2bd37588d015",
   "metadata": {},
   "source": [
    "## Approximation Computation"
   ]
  },
  {
   "cell_type": "code",
   "execution_count": 3,
   "id": "0d4968f5-54e2-426a-aa8c-8f88401abf92",
   "metadata": {},
   "outputs": [
    {
     "name": "stdout",
     "output_type": "stream",
     "text": [
      "T: 100000\n",
      "N: 10000000\n",
      "delta_t: 0.01\n",
      "dtg 0.01\n",
      "dtf 0.0001\n",
      "k: 1\n",
      "k: 2\n",
      "k: 3\n",
      "k: 4\n",
      "k: 5\n",
      "k: 6\n"
     ]
    }
   ],
   "source": [
    "tab_y = para.parareal_bis(func.Oscillator, SO.Stormer,SO.Stormer, y0, dtf, dtg, delta_t,T)\n"
   ]
  },
  {
   "cell_type": "markdown",
   "id": "7fbdf2cd-0d5f-4b77-993b-8fe32233c58a",
   "metadata": {},
   "source": [
    "## Error computation on parareal algorithm for harmonic oscillator"
   ]
  },
  {
   "cell_type": "markdown",
   "id": "c69df790-0a32-40d6-87ea-b677a0361d88",
   "metadata": {
    "tags": []
   },
   "source": [
    "### Error on y"
   ]
  },
  {
   "cell_type": "code",
   "execution_count": 4,
   "id": "00f74d0f-7187-4bf7-8f43-effc31b40b2f",
   "metadata": {},
   "outputs": [],
   "source": [
    "tab_err = para.err(tab_y,sol_ex)"
   ]
  },
  {
   "cell_type": "markdown",
   "id": "eec2f510-fed5-4bc7-9ec2-cd183464af94",
   "metadata": {},
   "source": [
    "### Error on the Hamiltonian"
   ]
  },
  {
   "cell_type": "code",
   "execution_count": null,
   "id": "90e4df96-62c8-4746-86cc-ea6290a41d77",
   "metadata": {},
   "outputs": [],
   "source": [
    "tab_Ha0 = 0.5 * np.ones(len(tab_y[0]))\n",
    "tab_Ha = para.Ha_err(tab_y,tab_Ha0,func.HaOscillator)\n",
    "\n"
   ]
  },
  {
   "cell_type": "code",
   "execution_count": null,
   "id": "e721fdb6-ff0b-4770-b6dd-4f37da029f19",
   "metadata": {},
   "outputs": [],
   "source": [
    "%matplotlib widget\n",
    "fig,(ax1,ax2) = plt.subplots(2,1,figsize=(15,7))\n",
    "\n",
    "fig.suptitle(f\"Absolute and Energy Error for the Harmonic Oscillator with \\u0394T={delta_t}\",fontsize='14',fontweight='bold')\n",
    "plt.subplots_adjust(left=0.05, bottom=0.1, right=0.9, top=0.9, wspace=0.4, hspace=0.4)\n",
    "\n",
    "# Absolute error\n",
    "for k in range(len(tab_err)):\n",
    "    ax1.loglog(tab_t,tab_err[k,:])    \n",
    "    \n",
    "ax1.set(title='Absolute Error',xlim=(1,T))\n",
    "ax1.legend(['f','g','1','2','3','4','5','6'] )\n",
    "\n",
    "#Energy error\n",
    "for k in range(kmax):\n",
    "    ax2.loglog(tab_t,tab_Ha[k,:])\n",
    "   \n",
    "ax2.set(title='Energy Error',xlim=(1,T))\n",
    "ax2.set_xlim(1,T)\n",
    "ax2.legend(['f','g','1','2','3','4','5','6'] )"
   ]
  },
  {
   "cell_type": "code",
   "execution_count": null,
   "id": "44b44651-04be-48d8-9080-715b0912c752",
   "metadata": {},
   "outputs": [],
   "source": [
    "#for k in range(2,kmax):\n",
    "#    slope, intercept = np.polyfit(np.log(tab_t)[1:],np.log(tab_Ha[k])[1:],1)\n",
    "#    print(f\"pente {k-1}\", slope)\n",
    "\n",
    "\n",
    "\n",
    "#slope_1,intercept_1 = np.polyfit(np.log(tab_t)[1:], np.log(tab_Ha[2])[1:],1)\n",
    "#slope_2,intercept_2= np.polyfit(np.log(tab_t)[201:], np.log(tab_Ha[3])[201:],1)\n",
    "#slope_3,intercept_3 = np.polyfit(np.log(tab_t)[1001:], np.log(tab_Ha[4])[1001:],1)\n",
    "#slope_4,intercept_4 = np.polyfit(np.log(tab_t)[1:], np.log(tab_Ha[5])[1:],1)\n",
    "#slope_5,intercept_5 = np.polyfit(np.log(tab_t)[1:], np.log(tab_Ha[6])[1:],1)\n",
    "\n",
    "\n",
    "#plt.plot(tab_t,np.power(tab_t,2)/10**7,label='t^2')\n",
    "#plt.plot(tab_t,np.power(tab_t,4)/10**14.4,label='t^4')\n",
    "#plt.plot(tab_t,np.power(tab_t,4)/10**15,label='t^4')\n",
    "#plt.plot(tab_t,np.power(tab_t,6)/10**22.5,label='t^6')\n",
    "#plt.plot(tab_t,np.power(tab_t,6)/10**23.3,label='t^6')\n",
    "#plt.plot(tab_t,np.power(tab_t,8)/10**31,label='t^8')\n",
    "\n",
    "#plt.legend()\n",
    "#print(\"pente 1\",slope_1)\n",
    "#print(\"pente 2\",slope_2)\n",
    "#print(\"pente 3\",slope_3)\n",
    "#print(\"pente 4\",slope_4)\n",
    "#print(\"pente 5\",slope_5)\n"
   ]
  }
 ],
 "metadata": {
  "kernelspec": {
   "display_name": "Python 3 (ipykernel)",
   "language": "python",
   "name": "python3"
  },
  "language_info": {
   "codemirror_mode": {
    "name": "ipython",
    "version": 3
   },
   "file_extension": ".py",
   "mimetype": "text/x-python",
   "name": "python",
   "nbconvert_exporter": "python",
   "pygments_lexer": "ipython3",
   "version": "3.10.4"
  }
 },
 "nbformat": 4,
 "nbformat_minor": 5
}
