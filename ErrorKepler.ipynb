{
 "cells": [
  {
   "cell_type": "markdown",
   "id": "686e3879-cc19-403f-bd94-a5c3ad3dfbb3",
   "metadata": {},
   "source": [
    "# Harmonic oscillator "
   ]
  },
  {
   "cell_type": "markdown",
   "id": "8ff7976c-190c-44a8-8346-8756c17e79c0",
   "metadata": {},
   "source": [
    "We have an Hamiltonian system\n",
    "$$\\dot{y} = J^{-1} \\nabla H(y) $$\n",
    "with $y = (p,q) \\in \\mathbb{R}^{2d}$ and $J=\\begin{pmatrix}0 & I \\\\ -I & 0 \\end{pmatrix} \\in M_{2d}(\\mathbb{R})$"
   ]
  },
  {
   "cell_type": "markdown",
   "id": "190fb3c2-d097-4632-bda5-e20f2c43db5e",
   "metadata": {},
   "source": [
    "In this case  $d=1$ and we have the following hamiltonian\n",
    "\\begin{equation}\n",
    "H(p,q) = \\frac{1}{2}\\left(p^2 + q ^2\\right)\n",
    "\\end{equation}"
   ]
  },
  {
   "cell_type": "markdown",
   "id": "991339c8-0c30-4e25-9b96-263c817caa70",
   "metadata": {},
   "source": [
    "Thus\n",
    "\n",
    "$$\n",
    "\\left\\{\\begin{matrix}\n",
    "       \\frac{\\partial p}{\\partial t} &=& - q \\\\\n",
    "       \\frac{\\partial q}{\\partial t} &=& p\\\\\n",
    "\\end{matrix}\\right.\n",
    "$$\n"
   ]
  },
  {
   "cell_type": "markdown",
   "id": "90dd9fd2-1d9e-4dc2-ae23-6a21defa1722",
   "metadata": {
    "tags": []
   },
   "source": [
    "### Imports"
   ]
  },
  {
   "cell_type": "code",
   "execution_count": 1,
   "id": "f274e912-f79e-403f-8dbe-f32568d51c1a",
   "metadata": {},
   "outputs": [],
   "source": [
    "import sys\n",
    "import parareal as para\n",
    "import RK2\n",
    "import RK4\n",
    "import StormerKepler as SK\n",
    "import HamiltonianFunctions as func\n",
    "import numpy as np\n",
    "import matplotlib.pyplot as plt\n",
    "#matplotlib.rcParams['figure.figsize'] = [10, 5]\n",
    "\n"
   ]
  },
  {
   "cell_type": "markdown",
   "id": "2982ed1b-2744-4b48-bd36-63efa3476118",
   "metadata": {
    "tags": []
   },
   "source": [
    "### Constants"
   ]
  },
  {
   "cell_type": "code",
   "execution_count": 2,
   "id": "b6b812b5-0c63-4afb-832e-3e2018c1c46a",
   "metadata": {},
   "outputs": [],
   "source": [
    "T = 100\n",
    "N = 1000\n",
    "e = 0.1\n",
    "y0 = np.double([0,np.sqrt((1+e)/(1-e)),1-e,0])\n",
    "delta_t = T/N\n",
    "dtg = delta_t\n",
    "dtf = dtg/100\n",
    "epsilon = 1/N\n"
   ]
  },
  {
   "cell_type": "markdown",
   "id": "bdfcd534-b937-4306-9407-2bd37588d015",
   "metadata": {},
   "source": [
    "## Plot"
   ]
  },
  {
   "cell_type": "code",
   "execution_count": 3,
   "id": "9f0df3cd-eee7-470b-91b7-564b397664cf",
   "metadata": {},
   "outputs": [
    {
     "data": {
      "text/plain": [
       "Text(0.5, 1.0, 'Stormer Verlet vs exact')"
      ]
     },
     "execution_count": 3,
     "metadata": {},
     "output_type": "execute_result"
    },
    {
     "data": {
      "image/png": "[encoded data removed]",
      "text/plain": [
       "<Figure size 432x288 with 1 Axes>"
      ]
     },
     "metadata": {
      "needs_background": "light"
     },
     "output_type": "display_data"
    }
   ],
   "source": [
    "%matplotlib inline\n",
    "\n",
    "tab_test = SK.tab_Stormer(func.Kepler,0,2,y0,delta_t/100)\n",
    "\n",
    "tab_t = np.linspace(0, T, len(tab_test[0]))\n",
    "plt.plot(tab_test[1,:], tab_test[0,:],'*', label = 'Stormer')\n",
    "plt.legend()\n",
    "plt.title('Stormer Verlet vs exact')\n"
   ]
  },
  {
   "cell_type": "code",
   "execution_count": 4,
   "id": "0d4968f5-54e2-426a-aa8c-8f88401abf92",
   "metadata": {},
   "outputs": [],
   "source": [
    "#tab_y = para.parareal(func.Kepler, SK.Stormer,\n",
    "                      #SK.Stormer, T, y0, dtf, dtg, N, epsilon)\n",
    "\n",
    "#plt.plot(sol_ex[0], sol_ex[1], 'x', label='exact')\n",
    "#plt.plot(tab_y[0, :], tab_y[1, :], 'o', label='parareal')\n",
    "#plt.legend()\n",
    "#plt.title('Parareal vs exact')"
   ]
  },
  {
   "cell_type": "markdown",
   "id": "7fbdf2cd-0d5f-4b77-993b-8fe32233c58a",
   "metadata": {},
   "source": [
    "## Error computation on parareal algorithm for harmonic oscillator"
   ]
  },
  {
   "cell_type": "markdown",
   "id": "c69df790-0a32-40d6-87ea-b677a0361d88",
   "metadata": {
    "tags": []
   },
   "source": [
    "### Error on y"
   ]
  },
  {
   "cell_type": "code",
   "execution_count": 5,
   "id": "00f74d0f-7187-4bf7-8f43-effc31b40b2f",
   "metadata": {},
   "outputs": [],
   "source": [
    "#tab_err = para.parareal_err(func.Oscillator, SO.tab_Stormer, SO.tab_Stormer, T//100, y0, dtf, dtg, N//100, epsilon)\n",
    "#plt.loglog(np.linspace(1,len(tab_err),len(tab_err)),tab_err, label = 'error on y')\n",
    "#plt.xlabel('Iteration')\n",
    "#plt.ylabel('Error')\n",
    "#plt.legend()"
   ]
  },
  {
   "cell_type": "markdown",
   "id": "eec2f510-fed5-4bc7-9ec2-cd183464af94",
   "metadata": {},
   "source": [
    "### Error on the Hamiltonian"
   ]
  },
  {
   "cell_type": "code",
   "execution_count": 6,
   "id": "90e4df96-62c8-4746-86cc-ea6290a41d77",
   "metadata": {},
   "outputs": [
    {
     "name": "stdout",
     "output_type": "stream",
     "text": [
      "k: 1\n",
      "k: 2\n"
     ]
    },
    {
     "ename": "KeyboardInterrupt",
     "evalue": "",
     "output_type": "error",
     "traceback": [
      "\u001b[0;31m---------------------------------------------------------------------------\u001b[0m",
      "\u001b[0;31mKeyboardInterrupt\u001b[0m                         Traceback (most recent call last)",
      "Input \u001b[0;32mIn [6]\u001b[0m, in \u001b[0;36m<cell line: 1>\u001b[0;34m()\u001b[0m\n\u001b[0;32m----> 1\u001b[0m tab_Ha \u001b[38;5;241m=\u001b[39m \u001b[43mpara\u001b[49m\u001b[38;5;241;43m.\u001b[39;49m\u001b[43mparareal_Ha_Kepler\u001b[49m\u001b[43m(\u001b[49m\u001b[43mfunc\u001b[49m\u001b[38;5;241;43m.\u001b[39;49m\u001b[43mKepler\u001b[49m\u001b[43m,\u001b[49m\u001b[43m \u001b[49m\u001b[43mSK\u001b[49m\u001b[38;5;241;43m.\u001b[39;49m\u001b[43mStormer\u001b[49m\u001b[43m,\u001b[49m\u001b[43m \u001b[49m\u001b[43mSK\u001b[49m\u001b[38;5;241;43m.\u001b[39;49m\u001b[43mStormer\u001b[49m\u001b[43m,\u001b[49m\u001b[43m \u001b[49m\u001b[43mT\u001b[49m\u001b[43m,\u001b[49m\u001b[43m \u001b[49m\u001b[43my0\u001b[49m\u001b[43m,\u001b[49m\u001b[43m \u001b[49m\u001b[43mdtf\u001b[49m\u001b[43m,\u001b[49m\u001b[43m \u001b[49m\u001b[43mdtg\u001b[49m\u001b[43m,\u001b[49m\u001b[43m \u001b[49m\u001b[43mN\u001b[49m\u001b[43m,\u001b[49m\u001b[43m \u001b[49m\u001b[43mepsilon\u001b[49m\u001b[43m)\u001b[49m\n\u001b[1;32m      3\u001b[0m kmax \u001b[38;5;241m=\u001b[39m \u001b[38;5;28mlen\u001b[39m(tab_Ha)\n\u001b[1;32m      5\u001b[0m tab_t \u001b[38;5;241m=\u001b[39m np\u001b[38;5;241m.\u001b[39mlinspace(\u001b[38;5;241m0\u001b[39m,T,N\u001b[38;5;241m+\u001b[39m\u001b[38;5;241m1\u001b[39m)\n",
      "File \u001b[0;32m~/Documents/Stage/hamiltonian/parareal.py:139\u001b[0m, in \u001b[0;36mparareal_Ha_Kepler\u001b[0;34m(F, f, g, T, y0, dtf, dtg, N, epsilon)\u001b[0m\n\u001b[1;32m    137\u001b[0m \u001b[38;5;28;01mwhile\u001b[39;00m k \u001b[38;5;241m<\u001b[39m\u001b[38;5;241m=\u001b[39m kmax:\n\u001b[1;32m    138\u001b[0m     \u001b[38;5;28;01mfor\u001b[39;00m n \u001b[38;5;129;01min\u001b[39;00m \u001b[38;5;28mrange\u001b[39m(\u001b[38;5;241m1\u001b[39m,N\u001b[38;5;241m+\u001b[39m\u001b[38;5;241m1\u001b[39m):\n\u001b[0;32m--> 139\u001b[0m         lambda_f[:, n] \u001b[38;5;241m=\u001b[39m \u001b[43mf\u001b[49m\u001b[43m(\u001b[49m\u001b[43mF\u001b[49m\u001b[43m,\u001b[49m\u001b[43m \u001b[49m\u001b[43m(\u001b[49m\u001b[43mn\u001b[49m\u001b[38;5;241;43m-\u001b[39;49m\u001b[38;5;241;43m1\u001b[39;49m\u001b[43m)\u001b[49m\u001b[38;5;241;43m*\u001b[39;49m\u001b[43mdelta_t\u001b[49m\u001b[43m,\u001b[49m\u001b[43m \u001b[49m\u001b[43mn\u001b[49m\u001b[38;5;241;43m*\u001b[39;49m\u001b[43mdelta_t\u001b[49m\u001b[43m,\u001b[49m\u001b[43m \u001b[49m\u001b[43mlambda_tab_old\u001b[49m\u001b[43m[\u001b[49m\u001b[43m:\u001b[49m\u001b[43m,\u001b[49m\u001b[43m \u001b[49m\u001b[43mn\u001b[49m\u001b[38;5;241;43m-\u001b[39;49m\u001b[38;5;241;43m1\u001b[39;49m\u001b[43m]\u001b[49m\u001b[43m,\u001b[49m\u001b[43m \u001b[49m\u001b[43mdtf\u001b[49m\u001b[43m)\u001b[49m \n\u001b[1;32m    140\u001b[0m     \u001b[38;5;28;01mfor\u001b[39;00m n \u001b[38;5;129;01min\u001b[39;00m \u001b[38;5;28mrange\u001b[39m(\u001b[38;5;241m1\u001b[39m, N\u001b[38;5;241m+\u001b[39m\u001b[38;5;241m1\u001b[39m):\n\u001b[1;32m    141\u001b[0m         lambda_tab[:,n] \u001b[38;5;241m=\u001b[39m lambda_f[:,n] \u001b[38;5;241m-\u001b[39m g(F, (n\u001b[38;5;241m-\u001b[39m\u001b[38;5;241m1\u001b[39m)\u001b[38;5;241m*\u001b[39mdelta_t, n\u001b[38;5;241m*\u001b[39mdelta_t, lambda_tab_old[:, n\u001b[38;5;241m-\u001b[39m\u001b[38;5;241m1\u001b[39m], dtg)\n",
      "File \u001b[0;32m~/Documents/Stage/hamiltonian/StormerKepler.py:25\u001b[0m, in \u001b[0;36mStormer\u001b[0;34m(f, t0, T, y0, dt)\u001b[0m\n\u001b[1;32m     23\u001b[0m     p_temp \u001b[38;5;241m=\u001b[39m p \u001b[38;5;241m-\u001b[39m (dt \u001b[38;5;241m/\u001b[39m \u001b[38;5;241m2\u001b[39m) \u001b[38;5;241m*\u001b[39m q \u001b[38;5;241m*\u001b[39m ((q[\u001b[38;5;241m0\u001b[39m]\u001b[38;5;241m*\u001b[39m\u001b[38;5;241m*\u001b[39m\u001b[38;5;241m2\u001b[39m\u001b[38;5;241m+\u001b[39mq[\u001b[38;5;241m1\u001b[39m]\u001b[38;5;241m*\u001b[39m\u001b[38;5;241m*\u001b[39m\u001b[38;5;241m2\u001b[39m)\u001b[38;5;241m*\u001b[39m\u001b[38;5;241m*\u001b[39m(\u001b[38;5;241m-\u001b[39m\u001b[38;5;241m1.5\u001b[39m))\n\u001b[1;32m     24\u001b[0m     q \u001b[38;5;241m=\u001b[39m q \u001b[38;5;241m+\u001b[39m dt \u001b[38;5;241m*\u001b[39m p_temp\n\u001b[0;32m---> 25\u001b[0m     p \u001b[38;5;241m=\u001b[39m p_temp \u001b[38;5;241m-\u001b[39m(dt \u001b[38;5;241m/\u001b[39m \u001b[38;5;241m2\u001b[39m) \u001b[38;5;241m*\u001b[39m q \u001b[38;5;241m*\u001b[39m((q[\u001b[38;5;241m0\u001b[39m]\u001b[38;5;241m*\u001b[39m\u001b[38;5;241m*\u001b[39m\u001b[38;5;241m2\u001b[39m\u001b[38;5;241m+\u001b[39mq[\u001b[38;5;241m1\u001b[39m]\u001b[38;5;241m*\u001b[39m\u001b[38;5;241m*\u001b[39m\u001b[38;5;241m2\u001b[39m)\u001b[38;5;241m*\u001b[39m\u001b[38;5;241m*\u001b[39m(\u001b[38;5;241m-\u001b[39m\u001b[38;5;241m1.5\u001b[39m))\n\u001b[1;32m     26\u001b[0m \u001b[38;5;28;01mreturn\u001b[39;00m np\u001b[38;5;241m.\u001b[39mhstack((p,q))\n",
      "\u001b[0;31mKeyboardInterrupt\u001b[0m: "
     ]
    }
   ],
   "source": [
    "tab_Ha = para.parareal_Ha_Kepler(func.Kepler, SK.Stormer, SK.Stormer, T, y0, dtf, dtg, N, epsilon)\n",
    "\n",
    "kmax = len(tab_Ha)\n",
    "\n",
    "tab_t = np.linspace(0,T,N+1)\n",
    "Ha0 = 0.5*(y0[0]**2+y0[1]**2) - 1/np.sqrt(y0[2]**2 + y0[3]**2)\n",
    "tab_Ha0 = Ha0*np.ones(len(tab_Ha[0,:]))\n",
    "%matplotlib widget\n",
    "\n",
    "plt.loglog(tab_t,np.abs(tab_Ha[0,:]-tab_Ha0), label =\"f solver\")\n",
    "plt.loglog(tab_t,np.abs(tab_Ha[1,:]-tab_Ha0), label =\"g solver\")\n",
    "for k in range(2,kmax):\n",
    "    plt.loglog(tab_t,np.abs(tab_Ha[k,:]-tab_Ha0), label =f\"k={k-1}\")\n",
    "    plt.xlabel('Time')\n",
    "    plt.ylabel('Error')\n",
    "\n",
    "plt.legend()"
   ]
  },
  {
   "cell_type": "code",
   "execution_count": null,
   "id": "44b44651-04be-48d8-9080-715b0912c752",
   "metadata": {},
   "outputs": [],
   "source": [
    "for k in range(2,kmax):\n",
    "    slope, intercept = np.polyfit(np.log(tab_t)[1:],np.log(np.abs(tab_Ha[k,:]-tab_Ha0))[1:],1)\n",
    "    print(f\"pente {k-1}\", slope)\n",
    "\n"
   ]
  }
 ],
 "metadata": {
  "kernelspec": {
   "display_name": "Python 3 (ipykernel)",
   "language": "python",
   "name": "python3"
  },
  "language_info": {
   "codemirror_mode": {
    "name": "ipython",
    "version": 3
   },
   "file_extension": ".py",
   "mimetype": "text/x-python",
   "name": "python",
   "nbconvert_exporter": "python",
   "pygments_lexer": "ipython3",
   "version": "3.10.4"
  }
 },
 "nbformat": 4,
 "nbformat_minor": 5
}
